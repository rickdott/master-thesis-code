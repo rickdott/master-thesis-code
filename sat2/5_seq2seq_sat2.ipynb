{
 "cells": [
  {
   "cell_type": "code",
   "execution_count": 3,
   "metadata": {},
   "outputs": [
    {
     "name": "stdout",
     "output_type": "stream",
     "text": [
      "The autoreload extension is already loaded. To reload it, use:\n",
      "  %reload_ext autoreload\n"
     ]
    }
   ],
   "source": [
    "%load_ext autoreload\n",
    "%autoreload 2\n",
    "import netCDF4\n",
    "import xarray as xr\n",
    "import numpy as np\n",
    "from pathlib import Path\n",
    "from hmpai.pytorch.models import *\n",
    "from hmpai.training import split_data_on_participants\n",
    "from hmpai.pytorch.training import train, validate, calculate_class_weights, train_and_test, k_fold_cross_validate, test\n",
    "from hmpai.pytorch.generators import SAT1Dataset\n",
    "from hmpai.data import SAT1_STAGES_ACCURACY, SAT_CLASSES_ACCURACY\n",
    "from hmpai.visualization import plot_confusion_matrix\n",
    "from hmpai.normalization import *\n",
    "from torchinfo import summary\n",
    "from torchvision.transforms import Compose\n",
    "from hmpai.pytorch.transforms import *\n",
    "from hmpai.utilities import print_results, CHANNELS_2D, AR_SAT1_CHANNELS\n",
    "from torch.utils.data import DataLoader\n",
    "from mne.io import read_info\n",
    "from pathlib import Path\n",
    "from hmpai.pytorch.models import *\n",
    "from hmpai.training import split_data_on_participants\n",
    "import pandas as pd\n",
    "from hmpai.pytorch.utilities import DEVICE, set_global_seed, get_summary_str, save_model, load_model\n",
    "\n",
    "import os\n",
    "DATA_PATH = Path(os.getenv(\"DATA_PATH\"))"
   ]
  },
  {
   "cell_type": "code",
   "execution_count": 4,
   "metadata": {},
   "outputs": [],
   "source": [
    "set_global_seed(42)\n",
    "data_path_sat2 = DATA_PATH / \"sat2/stage_data_100hz.nc\"\n",
    "dataset_sat2 = xr.open_dataset(data_path_sat2)\n",
    "# data_path_sat1 = DATA_PATH / \"sat1/stage_data_100hz.nc\"\n",
    "# dataset_sat1 = xr.load_dataset(data_path_sat1)\n",
    "# dataset_sat1 = dataset_sat1.rename_vars({'RT': 'rt'})\n",
    "\n",
    "dataset_sat2 = dataset_sat2.where(dataset_sat2.event_name.str.contains(\"accuracy\"), drop=True)\n",
    "# dataset_sp = dataset_sat1.where(dataset_sat1.event_name.str.contains(\"speed\"), drop=True)"
   ]
  },
  {
   "cell_type": "code",
   "execution_count": 3,
   "metadata": {},
   "outputs": [],
   "source": [
    "# shape_topological = False\n",
    "# info_to_keep = ['rt']\n",
    "# train_data_sat2, val_data_sat2, test_data_sat2 = split_data_on_participants(\n",
    "#     dataset_sat2, 60, norm_min1_to_1\n",
    "# )\n",
    "# train_data_sat1, val_data_sat1, test_data_sat1 = split_data_on_participants(\n",
    "#     dataset_sat1, 60, norm_min1_to_1\n",
    "# )\n",
    "# train_data = xr.merge([train_data_sat2, train_data_sat1])\n",
    "# val_data = xr.merge([val_data_sat2, val_data_sat1])\n",
    "# test_data = xr.merge([test_data_sat2, test_data_sat1])\n",
    "# train_dataset = SAT1Dataset(train_data, shape_topological=shape_topological, labels=SAT_CLASSES_ACCURACY, set_to_zero=True, info_to_keep=info_to_keep, order_by_rt=False)\n",
    "# val_dataset = SAT1Dataset(val_data, shape_topological=shape_topological, labels=SAT_CLASSES_ACCURACY, set_to_zero=True, info_to_keep=info_to_keep, order_by_rt=False)\n",
    "# test_dataset = SAT1Dataset(test_data, shape_topological=shape_topological, labels=SAT_CLASSES_ACCURACY, set_to_zero=True, info_to_keep=info_to_keep, order_by_rt=False)"
   ]
  },
  {
   "cell_type": "code",
   "execution_count": 5,
   "metadata": {},
   "outputs": [
    {
     "name": "stdout",
     "output_type": "stream",
     "text": [
      "['S13', 'S10', 'S1', 'S9', 'S6', 'S12', 'S3', 'S11']\n"
     ]
    }
   ],
   "source": [
    "shape_topological = False\n",
    "info_to_keep = [\"rt\"]\n",
    "train_data_sat2, val_data_sat2, test_data_sat2 = split_data_on_participants(\n",
    "    dataset_sat2, 60, norm_min1_to_1\n",
    ")\n",
    "# train_data_sat2 = train_data_sat2.where(train_data_sat2.labels != 0, drop=True)\n",
    "# val_data_sat2 = val_data_sat2.where(val_data_sat2.labels != 0, drop=True)\n",
    "# test_data_sat2 = test_data_sat2.where(test_data_sat2.labels != 0, drop=True)\n",
    "# train_data_sat1, val_data_sat1, test_data_sat1 = split_data_on_participants(\n",
    "#     dataset_sat1, 60, norm_min1_to_1\n",
    "# )\n",
    "# train_data = xr.merge([train_data_sat2, train_data_sat1])\n",
    "# val_data = xr.merge([val_data_sat2, val_data_sat1])\n",
    "# test_data = xr.merge([test_data_sat2, test_data_sat1])\n",
    "train_dataset = SAT1Dataset(\n",
    "    train_data_sat2,\n",
    "    shape_topological=shape_topological,\n",
    "    labels=SAT_CLASSES_ACCURACY,\n",
    "    set_to_zero=True,\n",
    "    info_to_keep=info_to_keep,\n",
    "    order_by_rt=False,\n",
    "    transform=Compose([RandomCropTransform(), ChannelsDropout(0.5, 0.4)]),\n",
    ")\n",
    "val_dataset = SAT1Dataset(\n",
    "    val_data_sat2,\n",
    "    shape_topological=shape_topological,\n",
    "    labels=SAT_CLASSES_ACCURACY,\n",
    "    set_to_zero=True,\n",
    "    info_to_keep=info_to_keep,\n",
    "    order_by_rt=False,\n",
    "    # transform=Compose([RandomCropTransform()]),\n",
    ")\n",
    "test_dataset = SAT1Dataset(\n",
    "    test_data_sat2,\n",
    "    shape_topological=shape_topological,\n",
    "    labels=SAT_CLASSES_ACCURACY,\n",
    "    set_to_zero=True,\n",
    "    info_to_keep=info_to_keep,\n",
    "    order_by_rt=False,\n",
    "    # transform=Compose([RandomCropTransform()]),\n",
    ")"
   ]
  },
  {
   "cell_type": "code",
   "execution_count": 6,
   "metadata": {},
   "outputs": [
    {
     "data": {
      "application/vnd.jupyter.widget-view+json": {
       "model_id": "e03d67e7e6784403980debea6a884edf",
       "version_major": 2,
       "version_minor": 0
      },
      "text/plain": [
       "  0%|          | 0/153 [00:00<?, ? batch/s]"
      ]
     },
     "metadata": {},
     "output_type": "display_data"
    },
    {
     "name": "stderr",
     "output_type": "stream",
     "text": [
      "/opt/conda/lib/python3.10/site-packages/sklearn/metrics/_classification.py:1509: UndefinedMetricWarning: Precision is ill-defined and being set to 0.0 in labels with no predicted samples. Use `zero_division` parameter to control this behavior.\n",
      "  _warn_prf(average, modifier, f\"{metric.capitalize()} is\", len(result))\n"
     ]
    },
    {
     "name": "stdout",
     "output_type": "stream",
     "text": [
      "              precision    recall  f1-score   support\n",
      "\n",
      "           0       1.00      0.98      0.99    364925\n",
      "           1       0.00      0.00      0.00     41315\n",
      "           2       0.30      0.00      0.00    113216\n",
      "           3       0.05      0.00      0.00    110763\n",
      "           4       0.06      1.00      0.12     18745\n",
      "\n",
      "    accuracy                           0.58    648964\n",
      "   macro avg       0.28      0.40      0.22    648964\n",
      "weighted avg       0.63      0.58      0.56    648964\n",
      "\n"
     ]
    },
    {
     "name": "stderr",
     "output_type": "stream",
     "text": [
      "/opt/conda/lib/python3.10/site-packages/sklearn/metrics/_classification.py:1509: UndefinedMetricWarning: Precision is ill-defined and being set to 0.0 in labels with no predicted samples. Use `zero_division` parameter to control this behavior.\n",
      "  _warn_prf(average, modifier, f\"{metric.capitalize()} is\", len(result))\n",
      "/opt/conda/lib/python3.10/site-packages/sklearn/metrics/_classification.py:1509: UndefinedMetricWarning: Precision is ill-defined and being set to 0.0 in labels with no predicted samples. Use `zero_division` parameter to control this behavior.\n",
      "  _warn_prf(average, modifier, f\"{metric.capitalize()} is\", len(result))\n"
     ]
    },
    {
     "data": {
      "application/vnd.jupyter.widget-view+json": {
       "model_id": "1581b5518f564a4f8d3f71c52b6c5e2e",
       "version_major": 2,
       "version_minor": 0
      },
      "text/plain": [
       "  0%|          | 0/153 [00:00<?, ? batch/s]"
      ]
     },
     "metadata": {},
     "output_type": "display_data"
    },
    {
     "name": "stderr",
     "output_type": "stream",
     "text": [
      "/opt/conda/lib/python3.10/site-packages/sklearn/metrics/_classification.py:1509: UndefinedMetricWarning: Precision is ill-defined and being set to 0.0 in labels with no predicted samples. Use `zero_division` parameter to control this behavior.\n",
      "  _warn_prf(average, modifier, f\"{metric.capitalize()} is\", len(result))\n",
      "/opt/conda/lib/python3.10/site-packages/sklearn/metrics/_classification.py:1509: UndefinedMetricWarning: Precision is ill-defined and being set to 0.0 in labels with no predicted samples. Use `zero_division` parameter to control this behavior.\n",
      "  _warn_prf(average, modifier, f\"{metric.capitalize()} is\", len(result))\n",
      "/opt/conda/lib/python3.10/site-packages/sklearn/metrics/_classification.py:1509: UndefinedMetricWarning: Precision is ill-defined and being set to 0.0 in labels with no predicted samples. Use `zero_division` parameter to control this behavior.\n",
      "  _warn_prf(average, modifier, f\"{metric.capitalize()} is\", len(result))\n"
     ]
    },
    {
     "name": "stdout",
     "output_type": "stream",
     "text": [
      "              precision    recall  f1-score   support\n",
      "\n",
      "           0       1.00      0.98      0.99    374264\n",
      "           1       0.00      0.00      0.00     41315\n",
      "           2       0.19      0.00      0.00    113216\n",
      "           3       0.00      0.00      0.00    110763\n",
      "           4       0.06      1.00      0.12     18745\n",
      "\n",
      "    accuracy                           0.58    658303\n",
      "   macro avg       0.25      0.40      0.22    658303\n",
      "weighted avg       0.60      0.58      0.57    658303\n",
      "\n"
     ]
    },
    {
     "data": {
      "application/vnd.jupyter.widget-view+json": {
       "model_id": "84edff41b4b344d08291760c12ae08aa",
       "version_major": 2,
       "version_minor": 0
      },
      "text/plain": [
       "  0%|          | 0/153 [00:00<?, ? batch/s]"
      ]
     },
     "metadata": {},
     "output_type": "display_data"
    },
    {
     "name": "stdout",
     "output_type": "stream",
     "text": [
      "              precision    recall  f1-score   support\n",
      "\n",
      "           0       1.00      0.98      0.99    371124\n",
      "           1       0.41      0.00      0.00     41315\n",
      "           2       0.00      0.00      0.00    113216\n",
      "           3       0.00      0.00      0.00    110763\n",
      "           4       0.06      1.00      0.12     18745\n",
      "\n",
      "    accuracy                           0.58    655163\n",
      "   macro avg       0.29      0.40      0.22    655163\n",
      "weighted avg       0.59      0.58      0.56    655163\n",
      "\n"
     ]
    },
    {
     "data": {
      "application/vnd.jupyter.widget-view+json": {
       "model_id": "1835aac7ab714558ba227a32d42d162c",
       "version_major": 2,
       "version_minor": 0
      },
      "text/plain": [
       "  0%|          | 0/153 [00:00<?, ? batch/s]"
      ]
     },
     "metadata": {},
     "output_type": "display_data"
    },
    {
     "name": "stdout",
     "output_type": "stream",
     "text": [
      "              precision    recall  f1-score   support\n",
      "\n",
      "           0       1.00      0.98      0.99    376874\n",
      "           1       0.42      0.00      0.00     41315\n",
      "           2       0.36      0.00      0.00    113216\n",
      "           3       0.00      0.00      0.00    110763\n",
      "           4       0.06      1.00      0.12     18745\n",
      "\n",
      "    accuracy                           0.59    660913\n",
      "   macro avg       0.37      0.40      0.22    660913\n",
      "weighted avg       0.66      0.59      0.57    660913\n",
      "\n"
     ]
    },
    {
     "data": {
      "application/vnd.jupyter.widget-view+json": {
       "model_id": "68679095a0d74aba92c59f7e4442ef14",
       "version_major": 2,
       "version_minor": 0
      },
      "text/plain": [
       "  0%|          | 0/153 [00:00<?, ? batch/s]"
      ]
     },
     "metadata": {},
     "output_type": "display_data"
    },
    {
     "name": "stdout",
     "output_type": "stream",
     "text": [
      "              precision    recall  f1-score   support\n",
      "\n",
      "           0       1.00      0.98      0.99    374653\n",
      "           1       0.12      0.01      0.01     41315\n",
      "           2       0.48      0.00      0.01    113216\n",
      "           3       0.00      0.00      0.00    110763\n",
      "           4       0.07      1.00      0.12     18745\n",
      "\n",
      "    accuracy                           0.59    658692\n",
      "   macro avg       0.33      0.40      0.23    658692\n",
      "weighted avg       0.66      0.59      0.57    658692\n",
      "\n"
     ]
    },
    {
     "data": {
      "application/vnd.jupyter.widget-view+json": {
       "model_id": "13867011070d46e79408d70fac7d512e",
       "version_major": 2,
       "version_minor": 0
      },
      "text/plain": [
       "  0%|          | 0/153 [00:00<?, ? batch/s]"
      ]
     },
     "metadata": {},
     "output_type": "display_data"
    },
    {
     "name": "stdout",
     "output_type": "stream",
     "text": [
      "              precision    recall  f1-score   support\n",
      "\n",
      "           0       1.00      0.98      0.99    378898\n",
      "           1       0.20      0.01      0.01     41315\n",
      "           2       0.48      0.00      0.00    113216\n",
      "           3       0.00      0.00      0.00    110763\n",
      "           4       0.06      1.00      0.12     18745\n",
      "\n",
      "    accuracy                           0.59    662937\n",
      "   macro avg       0.35      0.40      0.22    662937\n",
      "weighted avg       0.67      0.59      0.57    662937\n",
      "\n"
     ]
    },
    {
     "data": {
      "application/vnd.jupyter.widget-view+json": {
       "model_id": "29c40c379d834b9aa74758ed2a97d8a5",
       "version_major": 2,
       "version_minor": 0
      },
      "text/plain": [
       "  0%|          | 0/153 [00:00<?, ? batch/s]"
      ]
     },
     "metadata": {},
     "output_type": "display_data"
    },
    {
     "name": "stdout",
     "output_type": "stream",
     "text": [
      "              precision    recall  f1-score   support\n",
      "\n",
      "           0       1.00      0.98      0.99    379487\n",
      "           1       0.15      0.01      0.01     41315\n",
      "           2       0.50      0.01      0.01    113216\n",
      "           3       0.00      0.00      0.00    110763\n",
      "           4       0.06      1.00      0.12     18745\n",
      "\n",
      "    accuracy                           0.59    663526\n",
      "   macro avg       0.34      0.40      0.23    663526\n",
      "weighted avg       0.67      0.59      0.57    663526\n",
      "\n"
     ]
    },
    {
     "data": {
      "application/vnd.jupyter.widget-view+json": {
       "model_id": "bac91deee3e345f6ae2f9f7f6c51e618",
       "version_major": 2,
       "version_minor": 0
      },
      "text/plain": [
       "  0%|          | 0/153 [00:00<?, ? batch/s]"
      ]
     },
     "metadata": {},
     "output_type": "display_data"
    },
    {
     "name": "stdout",
     "output_type": "stream",
     "text": [
      "              precision    recall  f1-score   support\n",
      "\n",
      "           0       1.00      0.98      0.99    376238\n",
      "           1       0.15      0.01      0.02     41315\n",
      "           2       0.55      0.10      0.17    113216\n",
      "           3       0.00      0.00      0.00    110763\n",
      "           4       0.07      0.97      0.13     18745\n",
      "\n",
      "    accuracy                           0.60    660277\n",
      "   macro avg       0.35      0.41      0.26    660277\n",
      "weighted avg       0.67      0.60      0.60    660277\n",
      "\n"
     ]
    },
    {
     "data": {
      "application/vnd.jupyter.widget-view+json": {
       "model_id": "bf129d127d364071aa8d36991866a2a8",
       "version_major": 2,
       "version_minor": 0
      },
      "text/plain": [
       "  0%|          | 0/153 [00:00<?, ? batch/s]"
      ]
     },
     "metadata": {},
     "output_type": "display_data"
    },
    {
     "name": "stdout",
     "output_type": "stream",
     "text": [
      "              precision    recall  f1-score   support\n",
      "\n",
      "           0       1.00      0.98      0.99    382769\n",
      "           1       0.28      0.03      0.06     41315\n",
      "           2       0.57      0.09      0.16    113216\n",
      "           3       0.00      0.00      0.00    110763\n",
      "           4       0.07      0.98      0.13     18745\n",
      "\n",
      "    accuracy                           0.61    666808\n",
      "   macro avg       0.38      0.42      0.27    666808\n",
      "weighted avg       0.69      0.61      0.60    666808\n",
      "\n"
     ]
    },
    {
     "data": {
      "application/vnd.jupyter.widget-view+json": {
       "model_id": "b288dc7444974627963261ead47c91f2",
       "version_major": 2,
       "version_minor": 0
      },
      "text/plain": [
       "  0%|          | 0/153 [00:00<?, ? batch/s]"
      ]
     },
     "metadata": {},
     "output_type": "display_data"
    },
    {
     "name": "stdout",
     "output_type": "stream",
     "text": [
      "              precision    recall  f1-score   support\n",
      "\n",
      "           0       1.00      0.98      0.99    372721\n",
      "           1       0.34      0.03      0.05     41315\n",
      "           2       0.54      0.16      0.24    113216\n",
      "           3       0.00      0.00      0.00    110763\n",
      "           4       0.07      0.95      0.13     18745\n",
      "\n",
      "    accuracy                           0.61    656760\n",
      "   macro avg       0.39      0.42      0.28    656760\n",
      "weighted avg       0.68      0.61      0.61    656760\n",
      "\n"
     ]
    },
    {
     "data": {
      "application/vnd.jupyter.widget-view+json": {
       "model_id": "49ddcc0f3ea1410fbf09281fd3c7d29b",
       "version_major": 2,
       "version_minor": 0
      },
      "text/plain": [
       "  0%|          | 0/153 [00:00<?, ? batch/s]"
      ]
     },
     "metadata": {},
     "output_type": "display_data"
    },
    {
     "name": "stdout",
     "output_type": "stream",
     "text": [
      "              precision    recall  f1-score   support\n",
      "\n",
      "           0       1.00      0.98      0.99    360993\n",
      "           1       0.44      0.03      0.06     41315\n",
      "           2       0.60      0.05      0.10    113216\n",
      "           3       0.00      0.00      0.00    110763\n",
      "           4       0.07      0.99      0.12     18745\n",
      "\n",
      "    accuracy                           0.59    645032\n",
      "   macro avg       0.42      0.41      0.25    645032\n",
      "weighted avg       0.70      0.59      0.58    645032\n",
      "\n"
     ]
    },
    {
     "data": {
      "application/vnd.jupyter.widget-view+json": {
       "model_id": "2e492dd36fad4b42bbc3306439a745b9",
       "version_major": 2,
       "version_minor": 0
      },
      "text/plain": [
       "  0%|          | 0/153 [00:00<?, ? batch/s]"
      ]
     },
     "metadata": {},
     "output_type": "display_data"
    },
    {
     "name": "stdout",
     "output_type": "stream",
     "text": [
      "              precision    recall  f1-score   support\n",
      "\n",
      "           0       1.00      0.98      0.99    357558\n",
      "           1       0.48      0.03      0.06     41315\n",
      "           2       0.54      0.15      0.24    113216\n",
      "           3       0.00      0.00      0.00    110763\n",
      "           4       0.07      0.95      0.13     18745\n",
      "\n",
      "    accuracy                           0.60    641597\n",
      "   macro avg       0.42      0.42      0.28    641597\n",
      "weighted avg       0.69      0.60      0.60    641597\n",
      "\n"
     ]
    },
    {
     "data": {
      "application/vnd.jupyter.widget-view+json": {
       "model_id": "992fd1b7e3d94a3096b1ec2b772d6a09",
       "version_major": 2,
       "version_minor": 0
      },
      "text/plain": [
       "  0%|          | 0/153 [00:00<?, ? batch/s]"
      ]
     },
     "metadata": {},
     "output_type": "display_data"
    },
    {
     "name": "stdout",
     "output_type": "stream",
     "text": [
      "              precision    recall  f1-score   support\n",
      "\n",
      "           0       1.00      0.98      0.99    371164\n",
      "           1       0.53      0.05      0.10     41315\n",
      "           2       0.50      0.33      0.40    113216\n",
      "           3       0.01      0.00      0.00    110763\n",
      "           4       0.07      0.85      0.14     18745\n",
      "\n",
      "    accuracy                           0.64    655203\n",
      "   macro avg       0.42      0.44      0.32    655203\n",
      "weighted avg       0.69      0.64      0.64    655203\n",
      "\n"
     ]
    },
    {
     "data": {
      "application/vnd.jupyter.widget-view+json": {
       "model_id": "fdab68149ecb4a0baf831f18ff2e19c0",
       "version_major": 2,
       "version_minor": 0
      },
      "text/plain": [
       "  0%|          | 0/153 [00:00<?, ? batch/s]"
      ]
     },
     "metadata": {},
     "output_type": "display_data"
    },
    {
     "name": "stdout",
     "output_type": "stream",
     "text": [
      "              precision    recall  f1-score   support\n",
      "\n",
      "           0       1.00      0.98      0.99    367494\n",
      "           1       0.57      0.08      0.14     41315\n",
      "           2       0.52      0.27      0.36    113216\n",
      "           3       0.32      0.00      0.00    110763\n",
      "           4       0.07      0.89      0.14     18745\n",
      "\n",
      "    accuracy                           0.63    651533\n",
      "   macro avg       0.49      0.44      0.32    651533\n",
      "weighted avg       0.75      0.63      0.63    651533\n",
      "\n"
     ]
    },
    {
     "data": {
      "application/vnd.jupyter.widget-view+json": {
       "model_id": "a8223ce072884abcba339de781ad350b",
       "version_major": 2,
       "version_minor": 0
      },
      "text/plain": [
       "  0%|          | 0/153 [00:00<?, ? batch/s]"
      ]
     },
     "metadata": {},
     "output_type": "display_data"
    },
    {
     "name": "stdout",
     "output_type": "stream",
     "text": [
      "              precision    recall  f1-score   support\n",
      "\n",
      "           0       1.00      0.98      0.99    374589\n",
      "           1       0.58      0.14      0.23     41315\n",
      "           2       0.50      0.34      0.41    113216\n",
      "           3       0.00      0.00      0.00    110763\n",
      "           4       0.08      0.84      0.14     18745\n",
      "\n",
      "    accuracy                           0.65    658628\n",
      "   macro avg       0.43      0.46      0.35    658628\n",
      "weighted avg       0.69      0.65      0.65    658628\n",
      "\n"
     ]
    },
    {
     "data": {
      "application/vnd.jupyter.widget-view+json": {
       "model_id": "c61558d5718b40f7a079dbe1a09384bd",
       "version_major": 2,
       "version_minor": 0
      },
      "text/plain": [
       "  0%|          | 0/153 [00:00<?, ? batch/s]"
      ]
     },
     "metadata": {},
     "output_type": "display_data"
    },
    {
     "name": "stdout",
     "output_type": "stream",
     "text": [
      "              precision    recall  f1-score   support\n",
      "\n",
      "           0       1.00      0.98      0.99    381450\n",
      "           1       0.63      0.17      0.27     41315\n",
      "           2       0.53      0.24      0.33    113216\n",
      "           3       0.21      0.00      0.00    110763\n",
      "           4       0.07      0.91      0.14     18745\n",
      "\n",
      "    accuracy                           0.64    665489\n",
      "   macro avg       0.49      0.46      0.35    665489\n",
      "weighted avg       0.74      0.64      0.64    665489\n",
      "\n"
     ]
    },
    {
     "data": {
      "application/vnd.jupyter.widget-view+json": {
       "model_id": "9f12bd617f3f499eb1814e75b9ae40a8",
       "version_major": 2,
       "version_minor": 0
      },
      "text/plain": [
       "  0%|          | 0/153 [00:00<?, ? batch/s]"
      ]
     },
     "metadata": {},
     "output_type": "display_data"
    },
    {
     "name": "stdout",
     "output_type": "stream",
     "text": [
      "              precision    recall  f1-score   support\n",
      "\n",
      "           0       1.00      0.98      0.99    364982\n",
      "           1       0.59      0.08      0.14     41315\n",
      "           2       0.54      0.19      0.28    113216\n",
      "           3       0.38      0.00      0.01    110763\n",
      "           4       0.07      0.94      0.13     18745\n",
      "\n",
      "    accuracy                           0.61    649021\n",
      "   macro avg       0.52      0.44      0.31    649021\n",
      "weighted avg       0.76      0.61      0.62    649021\n",
      "\n"
     ]
    },
    {
     "data": {
      "application/vnd.jupyter.widget-view+json": {
       "model_id": "dec1cb6600c541e5850de35f03a10773",
       "version_major": 2,
       "version_minor": 0
      },
      "text/plain": [
       "  0%|          | 0/153 [00:00<?, ? batch/s]"
      ]
     },
     "metadata": {},
     "output_type": "display_data"
    },
    {
     "name": "stdout",
     "output_type": "stream",
     "text": [
      "              precision    recall  f1-score   support\n",
      "\n",
      "           0       1.00      0.98      0.99    378509\n",
      "           1       0.60      0.09      0.16     41315\n",
      "           2       0.57      0.13      0.22    113216\n",
      "           3       0.00      0.00      0.00    110763\n",
      "           4       0.07      0.97      0.13     18745\n",
      "\n",
      "    accuracy                           0.62    662548\n",
      "   macro avg       0.45      0.43      0.30    662548\n",
      "weighted avg       0.71      0.62      0.62    662548\n",
      "\n"
     ]
    },
    {
     "data": {
      "application/vnd.jupyter.widget-view+json": {
       "model_id": "ef847a97522645959e87d2f725edc8ad",
       "version_major": 2,
       "version_minor": 0
      },
      "text/plain": [
       "  0%|          | 0/153 [00:00<?, ? batch/s]"
      ]
     },
     "metadata": {},
     "output_type": "display_data"
    },
    {
     "name": "stdout",
     "output_type": "stream",
     "text": [
      "              precision    recall  f1-score   support\n",
      "\n",
      "           0       1.00      0.98      0.99    371520\n",
      "           1       0.61      0.15      0.24     41315\n",
      "           2       0.57      0.15      0.24    113216\n",
      "           3       0.26      0.00      0.00    110763\n",
      "           4       0.07      0.96      0.13     18745\n",
      "\n",
      "    accuracy                           0.62    655559\n",
      "   macro avg       0.50      0.45      0.32    655559\n",
      "weighted avg       0.75      0.62      0.62    655559\n",
      "\n"
     ]
    },
    {
     "data": {
      "text/plain": [
       "[{'0.0': {'precision': 1.0,\n",
       "   'recall': 0.9825958555598492,\n",
       "   'f1-score': 0.9912215369605742,\n",
       "   'support': 463223.0},\n",
       "  '1.0': {'precision': 0.5782692502789896,\n",
       "   'recall': 0.12975483166017893,\n",
       "   'f1-score': 0.21195106533298627,\n",
       "   'support': 43929.0},\n",
       "  '2.0': {'precision': 0.5043331059400187,\n",
       "   'recall': 0.18394352958522628,\n",
       "   'f1-score': 0.26956838807260153,\n",
       "   'support': 108517.0},\n",
       "  '3.0': {'precision': 0.3333333333333333,\n",
       "   'recall': 6.593758536562391e-05,\n",
       "   'f1-score': 0.00013184908929950463,\n",
       "   'support': 106161.0},\n",
       "  '4.0': {'precision': 0.06904893499426044,\n",
       "   'recall': 0.9023780420046672,\n",
       "   'f1-score': 0.12828188682822028,\n",
       "   'support': 17998.0},\n",
       "  'accuracy': 0.6718723811480506,\n",
       "  'macro avg': {'precision': 0.49699692490932046,\n",
       "   'recall': 0.43974763927905747,\n",
       "   'f1-score': 0.32023094525673634,\n",
       "   'support': 739828.0},\n",
       "  'weighted avg': {'precision': 0.7839447118584664,\n",
       "   'recall': 0.6718723811480506,\n",
       "   'f1-score': 0.675890855392441,\n",
       "   'support': 739828.0}}]"
      ]
     },
     "execution_count": 6,
     "metadata": {},
     "output_type": "execute_result"
    }
   ],
   "source": [
    "# Train model\n",
    "model = MambaModel(embed_dim=256, n_channels=30, n_classes=5, n_layers=6, global_pool=False)\n",
    "train_and_test(\n",
    "    model,\n",
    "    train_dataset,\n",
    "    test_dataset,\n",
    "    val_dataset,\n",
    "    logs_path=Path(\"../logs/\"),\n",
    "    workers=0,\n",
    "    batch_size=64,\n",
    "    labels=SAT_CLASSES_ACCURACY,\n",
    "    epochs=100,\n",
    "    # epochs=1,\n",
    "    weight_decay=0.001,\n",
    "    label_smoothing=0.1,\n",
    "    lr=0.00001\n",
    ")"
   ]
  },
  {
   "cell_type": "code",
   "execution_count": 6,
   "metadata": {},
   "outputs": [
    {
     "data": {
      "application/vnd.jupyter.widget-view+json": {
       "model_id": "33351a6e73784c3691f01e098b5d8c98",
       "version_major": 2,
       "version_minor": 0
      },
      "text/plain": [
       "  0%|          | 0/167 [00:00<?, ? batch/s]"
      ]
     },
     "metadata": {},
     "output_type": "display_data"
    },
    {
     "name": "stderr",
     "output_type": "stream",
     "text": [
      "ERROR: Unexpected bus error encountered in worker. This might be caused by insufficient shared memory (shm).\n",
      "\u0000ERROR: Unexpected bus error encountered in worker. This might be caused by insufficient shared memory (shm).\n",
      "\u0000ERROR: Unexpected bus error encountered in worker. This might be caused by insufficient shared memory (shm).\n",
      "\u0000ERROR: Unexpected bus error encountered in worker. This might be caused by insufficient shared memory (shm).\n",
      "\u0000ERROR: Unexpected bus error encountered in worker. This might be caused by insufficient shared memory (shm).\n",
      "\u0000ERROR: Unexpected bus error encountered in worker. This might be caused by insufficient shared memory (shm).\n",
      "\u0000ERROR: Unexpected bus error encountered in worker. This might be caused by insufficient shared memory (shm).\n",
      "\u0000ERROR: Unexpected bus error encountered in worker. This might be caused by insufficient shared memory (shm).\n",
      "\u0000"
     ]
    },
    {
     "ename": "RuntimeError",
     "evalue": "DataLoader worker (pid(s) 166091, 166096, 166097, 166098, 166099) exited unexpectedly",
     "output_type": "error",
     "traceback": [
      "\u001b[0;31m---------------------------------------------------------------------------\u001b[0m",
      "\u001b[0;31mRuntimeError\u001b[0m                              Traceback (most recent call last)",
      "File \u001b[0;32m/opt/conda/lib/python3.10/site-packages/torch/utils/data/dataloader.py:1133\u001b[0m, in \u001b[0;36m_MultiProcessingDataLoaderIter._try_get_data\u001b[0;34m(self, timeout)\u001b[0m\n\u001b[1;32m   1132\u001b[0m \u001b[38;5;28;01mtry\u001b[39;00m:\n\u001b[0;32m-> 1133\u001b[0m     data \u001b[38;5;241m=\u001b[39m \u001b[38;5;28;43mself\u001b[39;49m\u001b[38;5;241;43m.\u001b[39;49m\u001b[43m_data_queue\u001b[49m\u001b[38;5;241;43m.\u001b[39;49m\u001b[43mget\u001b[49m\u001b[43m(\u001b[49m\u001b[43mtimeout\u001b[49m\u001b[38;5;241;43m=\u001b[39;49m\u001b[43mtimeout\u001b[49m\u001b[43m)\u001b[49m\n\u001b[1;32m   1134\u001b[0m     \u001b[38;5;28;01mreturn\u001b[39;00m (\u001b[38;5;28;01mTrue\u001b[39;00m, data)\n",
      "File \u001b[0;32m/opt/conda/lib/python3.10/queue.py:180\u001b[0m, in \u001b[0;36mQueue.get\u001b[0;34m(self, block, timeout)\u001b[0m\n\u001b[1;32m    179\u001b[0m             \u001b[38;5;28;01mraise\u001b[39;00m Empty\n\u001b[0;32m--> 180\u001b[0m         \u001b[38;5;28;43mself\u001b[39;49m\u001b[38;5;241;43m.\u001b[39;49m\u001b[43mnot_empty\u001b[49m\u001b[38;5;241;43m.\u001b[39;49m\u001b[43mwait\u001b[49m\u001b[43m(\u001b[49m\u001b[43mremaining\u001b[49m\u001b[43m)\u001b[49m\n\u001b[1;32m    181\u001b[0m item \u001b[38;5;241m=\u001b[39m \u001b[38;5;28mself\u001b[39m\u001b[38;5;241m.\u001b[39m_get()\n",
      "File \u001b[0;32m/opt/conda/lib/python3.10/threading.py:324\u001b[0m, in \u001b[0;36mCondition.wait\u001b[0;34m(self, timeout)\u001b[0m\n\u001b[1;32m    323\u001b[0m \u001b[38;5;28;01mif\u001b[39;00m timeout \u001b[38;5;241m>\u001b[39m \u001b[38;5;241m0\u001b[39m:\n\u001b[0;32m--> 324\u001b[0m     gotit \u001b[38;5;241m=\u001b[39m \u001b[43mwaiter\u001b[49m\u001b[38;5;241;43m.\u001b[39;49m\u001b[43macquire\u001b[49m\u001b[43m(\u001b[49m\u001b[38;5;28;43;01mTrue\u001b[39;49;00m\u001b[43m,\u001b[49m\u001b[43m \u001b[49m\u001b[43mtimeout\u001b[49m\u001b[43m)\u001b[49m\n\u001b[1;32m    325\u001b[0m \u001b[38;5;28;01melse\u001b[39;00m:\n",
      "File \u001b[0;32m/opt/conda/lib/python3.10/site-packages/torch/utils/data/_utils/signal_handling.py:66\u001b[0m, in \u001b[0;36m_set_SIGCHLD_handler.<locals>.handler\u001b[0;34m(signum, frame)\u001b[0m\n\u001b[1;32m     63\u001b[0m \u001b[38;5;28;01mdef\u001b[39;00m \u001b[38;5;21mhandler\u001b[39m(signum, frame):\n\u001b[1;32m     64\u001b[0m     \u001b[38;5;66;03m# This following call uses `waitid` with WNOHANG from C side. Therefore,\u001b[39;00m\n\u001b[1;32m     65\u001b[0m     \u001b[38;5;66;03m# Python can still get and update the process status successfully.\u001b[39;00m\n\u001b[0;32m---> 66\u001b[0m     \u001b[43m_error_if_any_worker_fails\u001b[49m\u001b[43m(\u001b[49m\u001b[43m)\u001b[49m\n\u001b[1;32m     67\u001b[0m     \u001b[38;5;28;01mif\u001b[39;00m previous_handler \u001b[38;5;129;01mis\u001b[39;00m \u001b[38;5;129;01mnot\u001b[39;00m \u001b[38;5;28;01mNone\u001b[39;00m:\n",
      "\u001b[0;31mRuntimeError\u001b[0m: DataLoader worker (pid 166091) is killed by signal: Bus error. It is possible that dataloader's workers are out of shared memory. Please try to raise your shared memory limit.",
      "\nThe above exception was the direct cause of the following exception:\n",
      "\u001b[0;31mRuntimeError\u001b[0m                              Traceback (most recent call last)",
      "Cell \u001b[0;32mIn[6], line 3\u001b[0m\n\u001b[1;32m      1\u001b[0m model \u001b[38;5;241m=\u001b[39m Seq2SeqTransformer(d_model\u001b[38;5;241m=\u001b[39m\u001b[38;5;241m30\u001b[39m, ff_dim\u001b[38;5;241m=\u001b[39m\u001b[38;5;241m1024\u001b[39m, num_heads\u001b[38;5;241m=\u001b[39m\u001b[38;5;241m8\u001b[39m, num_layers\u001b[38;5;241m=\u001b[39m\u001b[38;5;241m6\u001b[39m, num_classes\u001b[38;5;241m=\u001b[39m\u001b[38;5;28mlen\u001b[39m(SAT_CLASSES_ACCURACY) \u001b[38;5;241m-\u001b[39m \u001b[38;5;241m1\u001b[39m, emb_dim\u001b[38;5;241m=\u001b[39m\u001b[38;5;241m512\u001b[39m)\n\u001b[1;32m      2\u001b[0m model\u001b[38;5;241m.\u001b[39mset_pretraining(\u001b[38;5;28;01mFalse\u001b[39;00m)\n\u001b[0;32m----> 3\u001b[0m \u001b[43mtrain_and_test\u001b[49m\u001b[43m(\u001b[49m\n\u001b[1;32m      4\u001b[0m \u001b[43m    \u001b[49m\u001b[43mmodel\u001b[49m\u001b[43m,\u001b[49m\n\u001b[1;32m      5\u001b[0m \u001b[43m    \u001b[49m\u001b[43mtrain_dataset\u001b[49m\u001b[43m,\u001b[49m\n\u001b[1;32m      6\u001b[0m \u001b[43m    \u001b[49m\u001b[43mtest_dataset\u001b[49m\u001b[43m,\u001b[49m\n\u001b[1;32m      7\u001b[0m \u001b[43m    \u001b[49m\u001b[43mval_dataset\u001b[49m\u001b[43m,\u001b[49m\n\u001b[1;32m      8\u001b[0m \u001b[43m    \u001b[49m\u001b[43mlogs_path\u001b[49m\u001b[38;5;241;43m=\u001b[39;49m\u001b[43mPath\u001b[49m\u001b[43m(\u001b[49m\u001b[38;5;124;43m\"\u001b[39;49m\u001b[38;5;124;43m../logs/\u001b[39;49m\u001b[38;5;124;43m\"\u001b[39;49m\u001b[43m)\u001b[49m\u001b[43m,\u001b[49m\n\u001b[1;32m      9\u001b[0m \u001b[43m    \u001b[49m\u001b[43mworkers\u001b[49m\u001b[38;5;241;43m=\u001b[39;49m\u001b[38;5;241;43m8\u001b[39;49m\u001b[43m,\u001b[49m\n\u001b[1;32m     10\u001b[0m \u001b[43m    \u001b[49m\u001b[43mbatch_size\u001b[49m\u001b[38;5;241;43m=\u001b[39;49m\u001b[38;5;241;43m64\u001b[39;49m\u001b[43m,\u001b[49m\n\u001b[1;32m     11\u001b[0m \u001b[43m    \u001b[49m\u001b[43mlabels\u001b[49m\u001b[38;5;241;43m=\u001b[39;49m\u001b[43mSAT_CLASSES_ACCURACY\u001b[49m\u001b[43m[\u001b[49m\u001b[38;5;241;43m1\u001b[39;49m\u001b[43m:\u001b[49m\u001b[43m]\u001b[49m\u001b[43m,\u001b[49m\n\u001b[1;32m     12\u001b[0m \u001b[43m    \u001b[49m\u001b[43mepochs\u001b[49m\u001b[38;5;241;43m=\u001b[39;49m\u001b[38;5;241;43m10\u001b[39;49m\u001b[43m,\u001b[49m\n\u001b[1;32m     13\u001b[0m \u001b[43m    \u001b[49m\u001b[38;5;66;43;03m# epochs=1,\u001b[39;49;00m\n\u001b[1;32m     14\u001b[0m \u001b[43m    \u001b[49m\u001b[43mweight_decay\u001b[49m\u001b[38;5;241;43m=\u001b[39;49m\u001b[38;5;241;43m0.001\u001b[39;49m\u001b[43m,\u001b[49m\n\u001b[1;32m     15\u001b[0m \u001b[43m    \u001b[49m\u001b[43mlabel_smoothing\u001b[49m\u001b[38;5;241;43m=\u001b[39;49m\u001b[38;5;241;43m0.1\u001b[39;49m\u001b[43m,\u001b[49m\n\u001b[1;32m     16\u001b[0m \u001b[43m    \u001b[49m\u001b[43mlr\u001b[49m\u001b[38;5;241;43m=\u001b[39;49m\u001b[38;5;241;43m0.00001\u001b[39;49m\n\u001b[1;32m     17\u001b[0m \u001b[43m)\u001b[49m\n",
      "File \u001b[0;32m/workspace/hmp-ai/src/hmpai/pytorch/training.py:171\u001b[0m, in \u001b[0;36mtrain_and_test\u001b[0;34m(model, train_set, test_set, val_set, batch_size, epochs, workers, logs_path, additional_info, additional_name, use_class_weights, label_smoothing, weight_decay, lr, do_spectral_decoupling, labels, seed, pretrain_fn)\u001b[0m\n\u001b[1;32m    169\u001b[0m \u001b[38;5;66;03m# Train on batches in train_loader\u001b[39;00m\n\u001b[1;32m    170\u001b[0m \u001b[38;5;28;01mif\u001b[39;00m pretrain_fn \u001b[38;5;129;01mis\u001b[39;00m \u001b[38;5;28;01mNone\u001b[39;00m:\n\u001b[0;32m--> 171\u001b[0m     batch_losses \u001b[38;5;241m=\u001b[39m \u001b[43mtrain\u001b[49m\u001b[43m(\u001b[49m\n\u001b[1;32m    172\u001b[0m \u001b[43m        \u001b[49m\u001b[43mmodel\u001b[49m\u001b[43m,\u001b[49m\n\u001b[1;32m    173\u001b[0m \u001b[43m        \u001b[49m\u001b[43mtrain_loader\u001b[49m\u001b[43m,\u001b[49m\n\u001b[1;32m    174\u001b[0m \u001b[43m        \u001b[49m\u001b[43mopt\u001b[49m\u001b[43m,\u001b[49m\n\u001b[1;32m    175\u001b[0m \u001b[43m        \u001b[49m\u001b[43mloss\u001b[49m\u001b[43m,\u001b[49m\n\u001b[1;32m    176\u001b[0m \u001b[43m        \u001b[49m\u001b[43mprogress\u001b[49m\u001b[38;5;241;43m=\u001b[39;49m\u001b[43mtepoch\u001b[49m\u001b[43m,\u001b[49m\n\u001b[1;32m    177\u001b[0m \u001b[43m        \u001b[49m\u001b[43mdo_spectral_decoupling\u001b[49m\u001b[38;5;241;43m=\u001b[39;49m\u001b[43mdo_spectral_decoupling\u001b[49m\u001b[43m,\u001b[49m\n\u001b[1;32m    178\u001b[0m \u001b[43m    \u001b[49m\u001b[43m)\u001b[49m\n\u001b[1;32m    179\u001b[0m \u001b[38;5;28;01melse\u001b[39;00m:\n\u001b[1;32m    180\u001b[0m     batch_losses \u001b[38;5;241m=\u001b[39m pretrain_train(\n\u001b[1;32m    181\u001b[0m         model, train_loader, opt, loss, pretrain_fn, progress\u001b[38;5;241m=\u001b[39mtepoch\n\u001b[1;32m    182\u001b[0m     )\n",
      "File \u001b[0;32m/workspace/hmp-ai/src/hmpai/pytorch/training.py:368\u001b[0m, in \u001b[0;36mtrain\u001b[0;34m(model, train_loader, optimizer, loss_fn, progress, do_spectral_decoupling)\u001b[0m\n\u001b[1;32m    365\u001b[0m     softmax \u001b[38;5;241m=\u001b[39m torch\u001b[38;5;241m.\u001b[39mnn\u001b[38;5;241m.\u001b[39mLogSoftmax(dim\u001b[38;5;241m=\u001b[39m\u001b[38;5;241m2\u001b[39m)\n\u001b[1;32m    366\u001b[0m loss_per_batch \u001b[38;5;241m=\u001b[39m []\n\u001b[0;32m--> 368\u001b[0m \u001b[38;5;28;01mfor\u001b[39;00m i, batch \u001b[38;5;129;01min\u001b[39;00m \u001b[38;5;28menumerate\u001b[39m(train_loader):\n\u001b[1;32m    369\u001b[0m     \u001b[38;5;66;03m# (Index, samples, channels), (Index, )\u001b[39;00m\n\u001b[1;32m    370\u001b[0m     data, labels \u001b[38;5;241m=\u001b[39m batch[\u001b[38;5;241m0\u001b[39m]\u001b[38;5;241m.\u001b[39mto(DEVICE), batch[\u001b[38;5;241m1\u001b[39m]\u001b[38;5;241m.\u001b[39mto(DEVICE)\n\u001b[1;32m    372\u001b[0m     optimizer\u001b[38;5;241m.\u001b[39mzero_grad()\n",
      "File \u001b[0;32m/opt/conda/lib/python3.10/site-packages/torch/utils/data/dataloader.py:631\u001b[0m, in \u001b[0;36m_BaseDataLoaderIter.__next__\u001b[0;34m(self)\u001b[0m\n\u001b[1;32m    628\u001b[0m \u001b[38;5;28;01mif\u001b[39;00m \u001b[38;5;28mself\u001b[39m\u001b[38;5;241m.\u001b[39m_sampler_iter \u001b[38;5;129;01mis\u001b[39;00m \u001b[38;5;28;01mNone\u001b[39;00m:\n\u001b[1;32m    629\u001b[0m     \u001b[38;5;66;03m# TODO(https://github.com/pytorch/pytorch/issues/76750)\u001b[39;00m\n\u001b[1;32m    630\u001b[0m     \u001b[38;5;28mself\u001b[39m\u001b[38;5;241m.\u001b[39m_reset()  \u001b[38;5;66;03m# type: ignore[call-arg]\u001b[39;00m\n\u001b[0;32m--> 631\u001b[0m data \u001b[38;5;241m=\u001b[39m \u001b[38;5;28;43mself\u001b[39;49m\u001b[38;5;241;43m.\u001b[39;49m\u001b[43m_next_data\u001b[49m\u001b[43m(\u001b[49m\u001b[43m)\u001b[49m\n\u001b[1;32m    632\u001b[0m \u001b[38;5;28mself\u001b[39m\u001b[38;5;241m.\u001b[39m_num_yielded \u001b[38;5;241m+\u001b[39m\u001b[38;5;241m=\u001b[39m \u001b[38;5;241m1\u001b[39m\n\u001b[1;32m    633\u001b[0m \u001b[38;5;28;01mif\u001b[39;00m \u001b[38;5;28mself\u001b[39m\u001b[38;5;241m.\u001b[39m_dataset_kind \u001b[38;5;241m==\u001b[39m _DatasetKind\u001b[38;5;241m.\u001b[39mIterable \u001b[38;5;129;01mand\u001b[39;00m \\\n\u001b[1;32m    634\u001b[0m         \u001b[38;5;28mself\u001b[39m\u001b[38;5;241m.\u001b[39m_IterableDataset_len_called \u001b[38;5;129;01mis\u001b[39;00m \u001b[38;5;129;01mnot\u001b[39;00m \u001b[38;5;28;01mNone\u001b[39;00m \u001b[38;5;129;01mand\u001b[39;00m \\\n\u001b[1;32m    635\u001b[0m         \u001b[38;5;28mself\u001b[39m\u001b[38;5;241m.\u001b[39m_num_yielded \u001b[38;5;241m>\u001b[39m \u001b[38;5;28mself\u001b[39m\u001b[38;5;241m.\u001b[39m_IterableDataset_len_called:\n",
      "File \u001b[0;32m/opt/conda/lib/python3.10/site-packages/torch/utils/data/dataloader.py:1329\u001b[0m, in \u001b[0;36m_MultiProcessingDataLoaderIter._next_data\u001b[0;34m(self)\u001b[0m\n\u001b[1;32m   1326\u001b[0m     \u001b[38;5;28;01mreturn\u001b[39;00m \u001b[38;5;28mself\u001b[39m\u001b[38;5;241m.\u001b[39m_process_data(data)\n\u001b[1;32m   1328\u001b[0m \u001b[38;5;28;01massert\u001b[39;00m \u001b[38;5;129;01mnot\u001b[39;00m \u001b[38;5;28mself\u001b[39m\u001b[38;5;241m.\u001b[39m_shutdown \u001b[38;5;129;01mand\u001b[39;00m \u001b[38;5;28mself\u001b[39m\u001b[38;5;241m.\u001b[39m_tasks_outstanding \u001b[38;5;241m>\u001b[39m \u001b[38;5;241m0\u001b[39m\n\u001b[0;32m-> 1329\u001b[0m idx, data \u001b[38;5;241m=\u001b[39m \u001b[38;5;28;43mself\u001b[39;49m\u001b[38;5;241;43m.\u001b[39;49m\u001b[43m_get_data\u001b[49m\u001b[43m(\u001b[49m\u001b[43m)\u001b[49m\n\u001b[1;32m   1330\u001b[0m \u001b[38;5;28mself\u001b[39m\u001b[38;5;241m.\u001b[39m_tasks_outstanding \u001b[38;5;241m-\u001b[39m\u001b[38;5;241m=\u001b[39m \u001b[38;5;241m1\u001b[39m\n\u001b[1;32m   1331\u001b[0m \u001b[38;5;28;01mif\u001b[39;00m \u001b[38;5;28mself\u001b[39m\u001b[38;5;241m.\u001b[39m_dataset_kind \u001b[38;5;241m==\u001b[39m _DatasetKind\u001b[38;5;241m.\u001b[39mIterable:\n\u001b[1;32m   1332\u001b[0m     \u001b[38;5;66;03m# Check for _IterableDatasetStopIteration\u001b[39;00m\n",
      "File \u001b[0;32m/opt/conda/lib/python3.10/site-packages/torch/utils/data/dataloader.py:1285\u001b[0m, in \u001b[0;36m_MultiProcessingDataLoaderIter._get_data\u001b[0;34m(self)\u001b[0m\n\u001b[1;32m   1283\u001b[0m \u001b[38;5;28;01melif\u001b[39;00m \u001b[38;5;28mself\u001b[39m\u001b[38;5;241m.\u001b[39m_pin_memory:\n\u001b[1;32m   1284\u001b[0m     \u001b[38;5;28;01mwhile\u001b[39;00m \u001b[38;5;28mself\u001b[39m\u001b[38;5;241m.\u001b[39m_pin_memory_thread\u001b[38;5;241m.\u001b[39mis_alive():\n\u001b[0;32m-> 1285\u001b[0m         success, data \u001b[38;5;241m=\u001b[39m \u001b[38;5;28;43mself\u001b[39;49m\u001b[38;5;241;43m.\u001b[39;49m\u001b[43m_try_get_data\u001b[49m\u001b[43m(\u001b[49m\u001b[43m)\u001b[49m\n\u001b[1;32m   1286\u001b[0m         \u001b[38;5;28;01mif\u001b[39;00m success:\n\u001b[1;32m   1287\u001b[0m             \u001b[38;5;28;01mreturn\u001b[39;00m data\n",
      "File \u001b[0;32m/opt/conda/lib/python3.10/site-packages/torch/utils/data/dataloader.py:1146\u001b[0m, in \u001b[0;36m_MultiProcessingDataLoaderIter._try_get_data\u001b[0;34m(self, timeout)\u001b[0m\n\u001b[1;32m   1144\u001b[0m \u001b[38;5;28;01mif\u001b[39;00m \u001b[38;5;28mlen\u001b[39m(failed_workers) \u001b[38;5;241m>\u001b[39m \u001b[38;5;241m0\u001b[39m:\n\u001b[1;32m   1145\u001b[0m     pids_str \u001b[38;5;241m=\u001b[39m \u001b[38;5;124m'\u001b[39m\u001b[38;5;124m, \u001b[39m\u001b[38;5;124m'\u001b[39m\u001b[38;5;241m.\u001b[39mjoin(\u001b[38;5;28mstr\u001b[39m(w\u001b[38;5;241m.\u001b[39mpid) \u001b[38;5;28;01mfor\u001b[39;00m w \u001b[38;5;129;01min\u001b[39;00m failed_workers)\n\u001b[0;32m-> 1146\u001b[0m     \u001b[38;5;28;01mraise\u001b[39;00m \u001b[38;5;167;01mRuntimeError\u001b[39;00m(\u001b[38;5;124mf\u001b[39m\u001b[38;5;124m'\u001b[39m\u001b[38;5;124mDataLoader worker (pid(s) \u001b[39m\u001b[38;5;132;01m{\u001b[39;00mpids_str\u001b[38;5;132;01m}\u001b[39;00m\u001b[38;5;124m) exited unexpectedly\u001b[39m\u001b[38;5;124m'\u001b[39m) \u001b[38;5;28;01mfrom\u001b[39;00m \u001b[38;5;21;01me\u001b[39;00m\n\u001b[1;32m   1147\u001b[0m \u001b[38;5;28;01mif\u001b[39;00m \u001b[38;5;28misinstance\u001b[39m(e, queue\u001b[38;5;241m.\u001b[39mEmpty):\n\u001b[1;32m   1148\u001b[0m     \u001b[38;5;28;01mreturn\u001b[39;00m (\u001b[38;5;28;01mFalse\u001b[39;00m, \u001b[38;5;28;01mNone\u001b[39;00m)\n",
      "\u001b[0;31mRuntimeError\u001b[0m: DataLoader worker (pid(s) 166091, 166096, 166097, 166098, 166099) exited unexpectedly"
     ]
    }
   ],
   "source": [
    "model = Seq2SeqTransformer(d_model=30, ff_dim=1024, num_heads=8, num_layers=6, num_classes=len(SAT_CLASSES_ACCURACY), emb_dim=512)\n",
    "model.set_pretraining(False)\n",
    "train_and_test(\n",
    "    model,\n",
    "    train_dataset,\n",
    "    test_dataset,\n",
    "    val_dataset,\n",
    "    logs_path=Path(\"../logs/\"),\n",
    "    workers=4,\n",
    "    batch_size=64,\n",
    "    labels=SAT_CLASSES_ACCURACY,\n",
    "    epochs=10,\n",
    "    # epochs=1,\n",
    "    weight_decay=0.001,\n",
    "    label_smoothing=0.1,\n",
    "    lr=0.00001\n",
    ")"
   ]
  }
 ],
 "metadata": {
  "kernelspec": {
   "display_name": "base",
   "language": "python",
   "name": "python3"
  },
  "language_info": {
   "codemirror_mode": {
    "name": "ipython",
    "version": 3
   },
   "file_extension": ".py",
   "mimetype": "text/x-python",
   "name": "python",
   "nbconvert_exporter": "python",
   "pygments_lexer": "ipython3",
   "version": "3.10.14"
  }
 },
 "nbformat": 4,
 "nbformat_minor": 2
}
