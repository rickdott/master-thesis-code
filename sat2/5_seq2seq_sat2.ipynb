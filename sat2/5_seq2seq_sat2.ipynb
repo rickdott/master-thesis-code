{
 "cells": [
  {
   "cell_type": "code",
   "execution_count": 1,
   "metadata": {},
   "outputs": [],
   "source": [
    "%load_ext autoreload\n",
    "%autoreload 2\n",
    "import xarray as xr\n",
    "from pathlib import Path\n",
    "from hmpai.pytorch.models import *\n",
    "from hmpai.training import split_data_on_participants\n",
    "from hmpai.pytorch.training import train, validate, calculate_class_weights, train_and_test, k_fold_cross_validate, test\n",
    "from hmpai.pytorch.utilities import DEVICE, set_global_seed, get_summary_str, save_model, load_model\n",
    "from hmpai.pytorch.generators import SAT1Dataset\n",
    "from hmpai.data import SAT1_STAGES_ACCURACY, SAT_CLASSES_ACCURACY\n",
    "from hmpai.visualization import plot_confusion_matrix\n",
    "from hmpai.normalization import *\n",
    "from torchinfo import summary\n",
    "from hmpai.utilities import print_results, CHANNELS_2D, AR_SAT1_CHANNELS\n",
    "from torch.utils.data import DataLoader\n",
    "from mne.io import read_info\n",
    "import os\n",
    "DATA_PATH = Path(os.getenv(\"DATA_PATH\"))"
   ]
  },
  {
   "cell_type": "code",
   "execution_count": 14,
   "metadata": {},
   "outputs": [],
   "source": [
    "set_global_seed(42)\n",
    "data_path_sat1 = DATA_PATH / \"sat2/stage_data_100hz.nc\"\n",
    "dataset_sat1 = xr.load_dataset(data_path_sat1)\n",
    "# dataset_acc = dataset_sat1.where(dataset_sat1.event_name.str.contains(\"accuracy\"), drop=True)\n",
    "# dataset_sp = dataset_sat1.where(dataset_sat1.event_name.str.contains(\"speed\"), drop=True)"
   ]
  },
  {
   "cell_type": "code",
   "execution_count": 15,
   "metadata": {},
   "outputs": [],
   "source": [
    "shape_topological = False\n",
    "train_data_sat1, val_data_sat1, test_data_sat1 = split_data_on_participants(\n",
    "    dataset_sat1, 60, norm_min1_to_1\n",
    ")\n",
    "train_dataset = SAT1Dataset(train_data_sat1, shape_topological=shape_topological, labels=SAT_CLASSES_ACCURACY, set_to_zero=True, interpolate_to=100)\n",
    "val_dataset = SAT1Dataset(val_data_sat1, shape_topological=shape_topological, labels=SAT_CLASSES_ACCURACY, set_to_zero=True, interpolate_to=100)\n",
    "test_dataset = SAT1Dataset(test_data_sat1, shape_topological=shape_topological, labels=SAT_CLASSES_ACCURACY, set_to_zero=True, interpolate_to=100)\n"
   ]
  },
  {
   "cell_type": "code",
   "execution_count": 19,
   "metadata": {},
   "outputs": [],
   "source": [
    "train_dataset = SAT1Dataset(train_data_sat1, shape_topological=shape_topological, labels=SAT_CLASSES_ACCURACY, set_to_zero=True)\n",
    "val_dataset = SAT1Dataset(val_data_sat1, shape_topological=shape_topological, labels=SAT_CLASSES_ACCURACY, set_to_zero=True)\n",
    "test_dataset = SAT1Dataset(test_data_sat1, shape_topological=shape_topological, labels=SAT_CLASSES_ACCURACY, set_to_zero=True)"
   ]
  },
  {
   "cell_type": "code",
   "execution_count": 22,
   "metadata": {},
   "outputs": [],
   "source": [
    "#Interpolate\n",
    "train_dataset = SAT1Dataset(train_data_sat1, shape_topological=shape_topological, labels=SAT_CLASSES_ACCURACY, set_to_zero=True, interpolate_to=100)\n",
    "val_dataset = SAT1Dataset(val_data_sat1, shape_topological=shape_topological, labels=SAT_CLASSES_ACCURACY, set_to_zero=True, interpolate_to=100)\n",
    "test_dataset = SAT1Dataset(test_data_sat1, shape_topological=shape_topological, labels=SAT_CLASSES_ACCURACY, set_to_zero=True, interpolate_to=100)\n"
   ]
  },
  {
   "cell_type": "code",
   "execution_count": 25,
   "metadata": {},
   "outputs": [
    {
     "name": "stderr",
     "output_type": "stream",
     "text": [
      "/opt/conda/lib/python3.10/site-packages/torch/nn/modules/transformer.py:306: UserWarning: enable_nested_tensor is True, but self.use_nested_tensor is False because encoder_layer.self_attn.batch_first was not True(use batch_first for better inference performance)\n",
      "  warnings.warn(f\"enable_nested_tensor is True, but self.use_nested_tensor is False because {why_not_sparsity_fast_path}\")\n"
     ]
    },
    {
     "data": {
      "application/vnd.jupyter.widget-view+json": {
       "model_id": "8c00abf930c14fc29663607da555df4c",
       "version_major": 2,
       "version_minor": 0
      },
      "text/plain": [
       "  0%|          | 0/323 [00:00<?, ? batch/s]"
      ]
     },
     "metadata": {},
     "output_type": "display_data"
    },
    {
     "name": "stdout",
     "output_type": "stream",
     "text": [
      "              precision    recall  f1-score   support\n",
      "\n",
      "           0       0.99      0.80      0.89       797\n",
      "           1       0.54      0.95      0.69       101\n",
      "           2       0.80      0.61      0.69       272\n",
      "           3       0.49      0.87      0.62       143\n",
      "           4       0.48      0.78      0.59        37\n",
      "\n",
      "    accuracy                           0.78      1350\n",
      "   macro avg       0.66      0.80      0.70      1350\n",
      "weighted avg       0.85      0.78      0.80      1350\n",
      "\n"
     ]
    },
    {
     "data": {
      "application/vnd.jupyter.widget-view+json": {
       "model_id": "b187a5bdf2c34c74987c2fe7f77252d8",
       "version_major": 2,
       "version_minor": 0
      },
      "text/plain": [
       "  0%|          | 0/323 [00:00<?, ? batch/s]"
      ]
     },
     "metadata": {},
     "output_type": "display_data"
    },
    {
     "name": "stdout",
     "output_type": "stream",
     "text": [
      "              precision    recall  f1-score   support\n",
      "\n",
      "           0       0.99      0.88      0.93      1092\n",
      "           1       0.52      0.92      0.67       103\n",
      "           2       0.79      0.62      0.69       263\n",
      "           3       0.50      0.74      0.60       126\n",
      "           4       0.42      0.89      0.57        36\n",
      "\n",
      "    accuracy                           0.83      1620\n",
      "   macro avg       0.65      0.81      0.69      1620\n",
      "weighted avg       0.88      0.83      0.84      1620\n",
      "\n"
     ]
    },
    {
     "data": {
      "application/vnd.jupyter.widget-view+json": {
       "model_id": "377219bbb68b4e7c8a0828239b54a75d",
       "version_major": 2,
       "version_minor": 0
      },
      "text/plain": [
       "  0%|          | 0/323 [00:00<?, ? batch/s]"
      ]
     },
     "metadata": {},
     "output_type": "display_data"
    },
    {
     "name": "stdout",
     "output_type": "stream",
     "text": [
      "              precision    recall  f1-score   support\n",
      "\n",
      "           0       0.99      0.82      0.90       644\n",
      "           1       0.60      0.92      0.72       112\n",
      "           2       0.78      0.68      0.73       247\n",
      "           3       0.52      0.67      0.58        99\n",
      "           4       0.41      0.92      0.57        38\n",
      "\n",
      "    accuracy                           0.79      1140\n",
      "   macro avg       0.66      0.80      0.70      1140\n",
      "weighted avg       0.84      0.79      0.81      1140\n",
      "\n"
     ]
    },
    {
     "data": {
      "application/vnd.jupyter.widget-view+json": {
       "model_id": "5e19c10526c04ddfa7399dcbfc124772",
       "version_major": 2,
       "version_minor": 0
      },
      "text/plain": [
       "  0%|          | 0/323 [00:00<?, ? batch/s]"
      ]
     },
     "metadata": {},
     "output_type": "display_data"
    },
    {
     "name": "stdout",
     "output_type": "stream",
     "text": [
      "              precision    recall  f1-score   support\n",
      "\n",
      "           0       0.99      0.93      0.96       882\n",
      "           1       0.62      0.88      0.73       115\n",
      "           2       0.90      0.66      0.76       341\n",
      "           3       0.44      0.79      0.57        87\n",
      "           4       0.51      0.89      0.65        45\n",
      "\n",
      "    accuracy                           0.85      1470\n",
      "   macro avg       0.69      0.83      0.73      1470\n",
      "weighted avg       0.89      0.85      0.86      1470\n",
      "\n"
     ]
    },
    {
     "data": {
      "application/vnd.jupyter.widget-view+json": {
       "model_id": "a529a3ebe0a64d83abe30b6bccbfa7ea",
       "version_major": 2,
       "version_minor": 0
      },
      "text/plain": [
       "  0%|          | 0/323 [00:00<?, ? batch/s]"
      ]
     },
     "metadata": {},
     "output_type": "display_data"
    },
    {
     "name": "stdout",
     "output_type": "stream",
     "text": [
      "              precision    recall  f1-score   support\n",
      "\n",
      "           0       0.98      0.87      0.92       504\n",
      "           1       0.60      0.92      0.72       110\n",
      "           2       0.85      0.69      0.77       347\n",
      "           3       0.52      0.62      0.57       104\n",
      "           4       0.49      0.93      0.65        45\n",
      "\n",
      "    accuracy                           0.80      1110\n",
      "   macro avg       0.69      0.81      0.72      1110\n",
      "weighted avg       0.84      0.80      0.81      1110\n",
      "\n"
     ]
    },
    {
     "data": {
      "application/vnd.jupyter.widget-view+json": {
       "model_id": "60f8ec99b88b4d0dab9a36a55a4d43f6",
       "version_major": 2,
       "version_minor": 0
      },
      "text/plain": [
       "  0%|          | 0/323 [00:00<?, ? batch/s]"
      ]
     },
     "metadata": {},
     "output_type": "display_data"
    },
    {
     "name": "stdout",
     "output_type": "stream",
     "text": [
      "              precision    recall  f1-score   support\n",
      "\n",
      "           0       0.99      0.96      0.98       830\n",
      "           1       0.67      0.86      0.75       132\n",
      "           2       0.87      0.68      0.76       333\n",
      "           3       0.67      0.76      0.71       194\n",
      "           4       0.51      0.98      0.67        41\n",
      "\n",
      "    accuracy                           0.86      1530\n",
      "   macro avg       0.74      0.85      0.77      1530\n",
      "weighted avg       0.88      0.86      0.87      1530\n",
      "\n"
     ]
    },
    {
     "data": {
      "application/vnd.jupyter.widget-view+json": {
       "model_id": "c623cec4ede74280af8541dd8be85efc",
       "version_major": 2,
       "version_minor": 0
      },
      "text/plain": [
       "  0%|          | 0/323 [00:00<?, ? batch/s]"
      ]
     },
     "metadata": {},
     "output_type": "display_data"
    },
    {
     "name": "stdout",
     "output_type": "stream",
     "text": [
      "              precision    recall  f1-score   support\n",
      "\n",
      "           0       0.99      0.94      0.97       906\n",
      "           1       0.52      0.94      0.67       102\n",
      "           2       0.86      0.65      0.74       312\n",
      "           3       0.64      0.72      0.68       139\n",
      "           4       0.57      0.95      0.71        41\n",
      "\n",
      "    accuracy                           0.86      1500\n",
      "   macro avg       0.72      0.84      0.75      1500\n",
      "weighted avg       0.89      0.86      0.86      1500\n",
      "\n"
     ]
    },
    {
     "data": {
      "application/vnd.jupyter.widget-view+json": {
       "model_id": "7b1b3030bb834f07b965389025db7188",
       "version_major": 2,
       "version_minor": 0
      },
      "text/plain": [
       "  0%|          | 0/323 [00:00<?, ? batch/s]"
      ]
     },
     "metadata": {},
     "output_type": "display_data"
    },
    {
     "name": "stdout",
     "output_type": "stream",
     "text": [
      "              precision    recall  f1-score   support\n",
      "\n",
      "           0       0.99      0.92      0.95       676\n",
      "           1       0.63      0.92      0.75       118\n",
      "           2       0.87      0.74      0.80       288\n",
      "           3       0.68      0.73      0.70       137\n",
      "           4       0.56      0.98      0.71        41\n",
      "\n",
      "    accuracy                           0.86      1260\n",
      "   macro avg       0.75      0.86      0.78      1260\n",
      "weighted avg       0.88      0.86      0.86      1260\n",
      "\n"
     ]
    },
    {
     "data": {
      "application/vnd.jupyter.widget-view+json": {
       "model_id": "697521d9784f4a399cf903369b59a0b9",
       "version_major": 2,
       "version_minor": 0
      },
      "text/plain": [
       "  0%|          | 0/323 [00:00<?, ? batch/s]"
      ]
     },
     "metadata": {},
     "output_type": "display_data"
    },
    {
     "name": "stdout",
     "output_type": "stream",
     "text": [
      "              precision    recall  f1-score   support\n",
      "\n",
      "           0       0.99      0.93      0.96       691\n",
      "           1       0.58      0.94      0.71       109\n",
      "           2       0.88      0.77      0.82       308\n",
      "           3       0.86      0.80      0.83       232\n",
      "           4       0.56      1.00      0.72        40\n",
      "\n",
      "    accuracy                           0.87      1380\n",
      "   macro avg       0.77      0.89      0.81      1380\n",
      "weighted avg       0.90      0.87      0.88      1380\n",
      "\n"
     ]
    },
    {
     "data": {
      "application/vnd.jupyter.widget-view+json": {
       "model_id": "b76b0af0d7374eb3806c001b1989d23f",
       "version_major": 2,
       "version_minor": 0
      },
      "text/plain": [
       "  0%|          | 0/323 [00:00<?, ? batch/s]"
      ]
     },
     "metadata": {},
     "output_type": "display_data"
    },
    {
     "name": "stdout",
     "output_type": "stream",
     "text": [
      "              precision    recall  f1-score   support\n",
      "\n",
      "           0       1.00      0.92      0.96      2108\n",
      "           1       0.54      0.89      0.67       104\n",
      "           2       0.74      0.64      0.68       332\n",
      "           3       0.48      0.80      0.60       176\n",
      "           4       0.60      0.82      0.69        40\n",
      "\n",
      "    accuracy                           0.88      2760\n",
      "   macro avg       0.67      0.82      0.72      2760\n",
      "weighted avg       0.91      0.88      0.89      2760\n",
      "\n"
     ]
    },
    {
     "data": {
      "text/plain": [
       "[{'0.0': {'precision': 0.994931696693724,\n",
       "   'recall': 0.944043539284382,\n",
       "   'f1-score': 0.9688198413933371,\n",
       "   'support': 372629.0},\n",
       "  '1.0': {'precision': 0.629037334277509,\n",
       "   'recall': 0.8580589766293703,\n",
       "   'f1-score': 0.7259128105598874,\n",
       "   'support': 37269.0},\n",
       "  '2.0': {'precision': 0.8425704192741754,\n",
       "   'recall': 0.6503942154499776,\n",
       "   'f1-score': 0.7341137412895752,\n",
       "   'support': 97916.0},\n",
       "  '3.0': {'precision': 0.5500146988287354,\n",
       "   'recall': 0.8107467043744013,\n",
       "   'f1-score': 0.6554016058703689,\n",
       "   'support': 43846.0},\n",
       "  '4.0': {'precision': 0.5894841166345001,\n",
       "   'recall': 0.9314266875463612,\n",
       "   'f1-score': 0.722016355737286,\n",
       "   'support': 12133.0},\n",
       "  'accuracy': 0.8767224850255324,\n",
       "  'macro avg': {'precision': 0.7212076531417286,\n",
       "   'recall': 0.8389340246568985,\n",
       "   'f1-score': 0.7612528709700909,\n",
       "   'support': 563793.0},\n",
       "  'weighted avg': {'precision': 0.9009570464054989,\n",
       "   'recall': 0.8767224850255324,\n",
       "   'f1-score': 0.8823147104745482,\n",
       "   'support': 563793.0}}]"
      ]
     },
     "execution_count": 25,
     "metadata": {},
     "output_type": "execute_result"
    }
   ],
   "source": [
    "model = Seq2SeqTransformer(d_model=30, ff_dim=2048, num_heads=10, num_layers=6, num_classes=len(SAT_CLASSES_ACCURACY))\n",
    "\n",
    "train_and_test(\n",
    "    model,\n",
    "    train_dataset,\n",
    "    test_dataset,\n",
    "    val_dataset,\n",
    "    logs_path=Path(\"../logs/\"),\n",
    "    workers=0,\n",
    "    batch_size=64,\n",
    "    labels=SAT_CLASSES_ACCURACY,\n",
    "    epochs=10,\n",
    "    # epochs=1,\n",
    "    weight_decay=0.001,\n",
    "    label_smoothing=0.0001,\n",
    "    lr=0.0001\n",
    ")"
   ]
  }
 ],
 "metadata": {
  "kernelspec": {
   "display_name": "base",
   "language": "python",
   "name": "python3"
  },
  "language_info": {
   "codemirror_mode": {
    "name": "ipython",
    "version": 3
   },
   "file_extension": ".py",
   "mimetype": "text/x-python",
   "name": "python",
   "nbconvert_exporter": "python",
   "pygments_lexer": "ipython3",
   "version": "3.10.13"
  }
 },
 "nbformat": 4,
 "nbformat_minor": 2
}
