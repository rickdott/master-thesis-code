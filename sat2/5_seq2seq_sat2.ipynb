{
 "cells": [
  {
   "cell_type": "code",
   "execution_count": 1,
   "metadata": {},
   "outputs": [],
   "source": [
    "%load_ext autoreload\n",
    "%autoreload 2\n",
    "import xarray as xr\n",
    "import numpy as np\n",
    "from pathlib import Path\n",
    "from hmpai.pytorch.models import *\n",
    "from hmpai.training import split_data_on_participants\n",
    "from hmpai.pytorch.training import train, validate, calculate_class_weights, train_and_test, k_fold_cross_validate, test\n",
    "from hmpai.pytorch.utilities import DEVICE, set_global_seed, get_summary_str, save_model, load_model\n",
    "from hmpai.pytorch.generators import SAT1Dataset\n",
    "from hmpai.data import SAT1_STAGES_ACCURACY, SAT_CLASSES_ACCURACY\n",
    "from hmpai.visualization import plot_confusion_matrix\n",
    "from hmpai.normalization import *\n",
    "from torchinfo import summary\n",
    "from hmpai.utilities import print_results, CHANNELS_2D, AR_SAT1_CHANNELS\n",
    "from torch.utils.data import DataLoader\n",
    "from mne.io import read_info\n",
    "import os\n",
    "DATA_PATH = Path(os.getenv(\"DATA_PATH\"))"
   ]
  },
  {
   "cell_type": "code",
   "execution_count": 2,
   "metadata": {},
   "outputs": [],
   "source": [
    "set_global_seed(42)\n",
    "data_path_sat2 = DATA_PATH / \"sat2/stage_data_100hz.nc\"\n",
    "dataset_sat2 = xr.load_dataset(data_path_sat2)\n",
    "data_path_sat1 = DATA_PATH / \"sat1/stage_data_100hz.nc\"\n",
    "dataset_sat1 = xr.load_dataset(data_path_sat1)\n",
    "dataset_sat1 = dataset_sat1.rename_vars({'RT': 'rt'})\n",
    "\n",
    "# dataset_acc = dataset_sat1.where(dataset_sat1.event_name.str.contains(\"accuracy\"), drop=True)\n",
    "# dataset_sp = dataset_sat1.where(dataset_sat1.event_name.str.contains(\"speed\"), drop=True)"
   ]
  },
  {
   "cell_type": "code",
   "execution_count": 3,
   "metadata": {},
   "outputs": [],
   "source": [
    "shape_topological = False\n",
    "info_to_keep = ['rt']\n",
    "train_data_sat2, val_data_sat2, test_data_sat2 = split_data_on_participants(\n",
    "    dataset_sat2, 60, norm_min1_to_1\n",
    ")\n",
    "train_data_sat1, val_data_sat1, test_data_sat1 = split_data_on_participants(\n",
    "    dataset_sat1, 60, norm_min1_to_1\n",
    ")\n",
    "train_data = xr.merge([train_data_sat2, train_data_sat1])\n",
    "val_data = xr.merge([val_data_sat2, val_data_sat1])\n",
    "test_data = xr.merge([test_data_sat2, test_data_sat1])\n",
    "train_dataset = SAT1Dataset(train_data, shape_topological=shape_topological, labels=SAT_CLASSES_ACCURACY, set_to_zero=True, info_to_keep=info_to_keep, order_by_rt=False)\n",
    "val_dataset = SAT1Dataset(val_data, shape_topological=shape_topological, labels=SAT_CLASSES_ACCURACY, set_to_zero=True, info_to_keep=info_to_keep, order_by_rt=False)\n",
    "test_dataset = SAT1Dataset(test_data, shape_topological=shape_topological, labels=SAT_CLASSES_ACCURACY, set_to_zero=True, info_to_keep=info_to_keep, order_by_rt=False)"
   ]
  },
  {
   "cell_type": "code",
   "execution_count": 5,
   "metadata": {},
   "outputs": [
    {
     "name": "stderr",
     "output_type": "stream",
     "text": [
      "/opt/conda/lib/python3.10/site-packages/torch/nn/modules/transformer.py:306: UserWarning: enable_nested_tensor is True, but self.use_nested_tensor is False because encoder_layer.self_attn.batch_first was not True(use batch_first for better inference performance)\n",
      "  warnings.warn(f\"enable_nested_tensor is True, but self.use_nested_tensor is False because {why_not_sparsity_fast_path}\")\n"
     ]
    },
    {
     "data": {
      "application/vnd.jupyter.widget-view+json": {
       "model_id": "092da327c0794ab1a03abe47b1844b7d",
       "version_major": 2,
       "version_minor": 0
      },
      "text/plain": [
       "  0%|          | 0/183 [00:00<?, ? batch/s]"
      ]
     },
     "metadata": {},
     "output_type": "display_data"
    },
    {
     "name": "stdout",
     "output_type": "stream",
     "text": [
      "              precision    recall  f1-score   support\n",
      "\n",
      "           0       1.00      0.93      0.96     10749\n",
      "           1       0.61      0.95      0.74       900\n",
      "           2       0.85      0.65      0.74      2791\n",
      "           3       0.58      0.85      0.69      1365\n",
      "           4       0.58      0.96      0.73       413\n",
      "\n",
      "    accuracy                           0.88     16218\n",
      "   macro avg       0.72      0.87      0.77     16218\n",
      "weighted avg       0.91      0.88      0.88     16218\n",
      "\n"
     ]
    },
    {
     "data": {
      "application/vnd.jupyter.widget-view+json": {
       "model_id": "de6a7cdf7cde4dbe97ae7b15704374e5",
       "version_major": 2,
       "version_minor": 0
      },
      "text/plain": [
       "  0%|          | 0/183 [00:00<?, ? batch/s]"
      ]
     },
     "metadata": {},
     "output_type": "display_data"
    },
    {
     "name": "stdout",
     "output_type": "stream",
     "text": [
      "              precision    recall  f1-score   support\n",
      "\n",
      "           0       1.00      0.96      0.98     12769\n",
      "           1       0.60      0.93      0.73       991\n",
      "           2       0.82      0.65      0.73      2728\n",
      "           3       0.64      0.74      0.68      1512\n",
      "           4       0.59      0.98      0.74       462\n",
      "\n",
      "    accuracy                           0.90     18462\n",
      "   macro avg       0.73      0.85      0.77     18462\n",
      "weighted avg       0.91      0.90      0.90     18462\n",
      "\n"
     ]
    },
    {
     "data": {
      "application/vnd.jupyter.widget-view+json": {
       "model_id": "2b9d2c7c1d3a4202a1cd9d4dbda181a5",
       "version_major": 2,
       "version_minor": 0
      },
      "text/plain": [
       "  0%|          | 0/183 [00:00<?, ? batch/s]"
      ]
     },
     "metadata": {},
     "output_type": "display_data"
    },
    {
     "name": "stdout",
     "output_type": "stream",
     "text": [
      "              precision    recall  f1-score   support\n",
      "\n",
      "           0       1.00      0.95      0.97     12898\n",
      "           1       0.58      0.94      0.72       941\n",
      "           2       0.84      0.68      0.75      2611\n",
      "           3       0.65      0.81      0.72      1469\n",
      "           4       0.64      0.96      0.77       441\n",
      "\n",
      "    accuracy                           0.90     18360\n",
      "   macro avg       0.74      0.87      0.78     18360\n",
      "weighted avg       0.92      0.90      0.90     18360\n",
      "\n"
     ]
    },
    {
     "data": {
      "application/vnd.jupyter.widget-view+json": {
       "model_id": "23944c2ebf014cdd9ba6a8e1da63ea9b",
       "version_major": 2,
       "version_minor": 0
      },
      "text/plain": [
       "  0%|          | 0/183 [00:00<?, ? batch/s]"
      ]
     },
     "metadata": {},
     "output_type": "display_data"
    },
    {
     "name": "stdout",
     "output_type": "stream",
     "text": [
      "              precision    recall  f1-score   support\n",
      "\n",
      "           0       1.00      0.93      0.96      5622\n",
      "           1       0.69      0.91      0.78      1001\n",
      "           2       0.86      0.69      0.77      2752\n",
      "           3       0.52      0.75      0.62       967\n",
      "           4       0.67      0.98      0.80       470\n",
      "\n",
      "    accuracy                           0.85     10812\n",
      "   macro avg       0.75      0.85      0.79     10812\n",
      "weighted avg       0.88      0.85      0.86     10812\n",
      "\n"
     ]
    },
    {
     "data": {
      "application/vnd.jupyter.widget-view+json": {
       "model_id": "7607307e1477462f832ec64392747a42",
       "version_major": 2,
       "version_minor": 0
      },
      "text/plain": [
       "  0%|          | 0/183 [00:00<?, ? batch/s]"
      ]
     },
     "metadata": {},
     "output_type": "display_data"
    },
    {
     "name": "stdout",
     "output_type": "stream",
     "text": [
      "              precision    recall  f1-score   support\n",
      "\n",
      "           0       1.00      0.98      0.99     17697\n",
      "           1       0.66      0.91      0.76      1019\n",
      "           2       0.88      0.63      0.73      2916\n",
      "           3       0.58      0.82      0.68      1467\n",
      "           4       0.68      0.97      0.80       463\n",
      "\n",
      "    accuracy                           0.92     23562\n",
      "   macro avg       0.76      0.86      0.79     23562\n",
      "weighted avg       0.94      0.92      0.93     23562\n",
      "\n"
     ]
    },
    {
     "data": {
      "application/vnd.jupyter.widget-view+json": {
       "model_id": "f78116f2593543f1bb706d85fec4eae5",
       "version_major": 2,
       "version_minor": 0
      },
      "text/plain": [
       "  0%|          | 0/183 [00:00<?, ? batch/s]"
      ]
     },
     "metadata": {},
     "output_type": "display_data"
    },
    {
     "name": "stdout",
     "output_type": "stream",
     "text": [
      "              precision    recall  f1-score   support\n",
      "\n",
      "           0       1.00      0.93      0.97     13258\n",
      "           1       0.55      0.98      0.70       907\n",
      "           2       0.83      0.61      0.70      2599\n",
      "           3       0.56      0.84      0.67      1369\n",
      "           4       0.69      0.97      0.81       431\n",
      "\n",
      "    accuracy                           0.88     18564\n",
      "   macro avg       0.73      0.87      0.77     18564\n",
      "weighted avg       0.91      0.88      0.89     18564\n",
      "\n"
     ]
    },
    {
     "data": {
      "application/vnd.jupyter.widget-view+json": {
       "model_id": "d42b37b44783445cacc991c4a935436b",
       "version_major": 2,
       "version_minor": 0
      },
      "text/plain": [
       "  0%|          | 0/183 [00:00<?, ? batch/s]"
      ]
     },
     "metadata": {},
     "output_type": "display_data"
    },
    {
     "name": "stdout",
     "output_type": "stream",
     "text": [
      "              precision    recall  f1-score   support\n",
      "\n",
      "           0       1.00      0.94      0.97     10473\n",
      "           1       0.60      0.84      0.70      1021\n",
      "           2       0.81      0.65      0.72      2632\n",
      "           3       0.60      0.83      0.69      1336\n",
      "           4       0.70      0.97      0.81       450\n",
      "\n",
      "    accuracy                           0.88     15912\n",
      "   macro avg       0.74      0.85      0.78     15912\n",
      "weighted avg       0.90      0.88      0.89     15912\n",
      "\n"
     ]
    },
    {
     "data": {
      "application/vnd.jupyter.widget-view+json": {
       "model_id": "60327ad4df6745a38de251fb18125668",
       "version_major": 2,
       "version_minor": 0
      },
      "text/plain": [
       "  0%|          | 0/183 [00:00<?, ? batch/s]"
      ]
     },
     "metadata": {},
     "output_type": "display_data"
    },
    {
     "name": "stdout",
     "output_type": "stream",
     "text": [
      "              precision    recall  f1-score   support\n",
      "\n",
      "           0       1.00      0.93      0.96      8555\n",
      "           1       0.58      0.98      0.73       873\n",
      "           2       0.85      0.68      0.76      2659\n",
      "           3       0.63      0.79      0.70      1253\n",
      "           4       0.65      0.99      0.78       430\n",
      "\n",
      "    accuracy                           0.87     13770\n",
      "   macro avg       0.74      0.88      0.79     13770\n",
      "weighted avg       0.90      0.87      0.88     13770\n",
      "\n"
     ]
    },
    {
     "data": {
      "application/vnd.jupyter.widget-view+json": {
       "model_id": "a8ddfab3c32b44e3a402cd76167aaa23",
       "version_major": 2,
       "version_minor": 0
      },
      "text/plain": [
       "  0%|          | 0/183 [00:00<?, ? batch/s]"
      ]
     },
     "metadata": {},
     "output_type": "display_data"
    },
    {
     "name": "stdout",
     "output_type": "stream",
     "text": [
      "              precision    recall  f1-score   support\n",
      "\n",
      "           0       1.00      0.96      0.98     12839\n",
      "           1       0.60      0.91      0.72      1014\n",
      "           2       0.88      0.72      0.79      2761\n",
      "           3       0.69      0.81      0.74      1487\n",
      "           4       0.67      0.98      0.79       463\n",
      "\n",
      "    accuracy                           0.91     18564\n",
      "   macro avg       0.77      0.88      0.81     18564\n",
      "weighted avg       0.93      0.91      0.91     18564\n",
      "\n"
     ]
    },
    {
     "data": {
      "application/vnd.jupyter.widget-view+json": {
       "model_id": "c99906a97686421691af8df99d2b3b13",
       "version_major": 2,
       "version_minor": 0
      },
      "text/plain": [
       "  0%|          | 0/183 [00:00<?, ? batch/s]"
      ]
     },
     "metadata": {},
     "output_type": "display_data"
    },
    {
     "name": "stdout",
     "output_type": "stream",
     "text": [
      "              precision    recall  f1-score   support\n",
      "\n",
      "           0       1.00      0.96      0.98     10856\n",
      "           1       0.62      0.94      0.75       972\n",
      "           2       0.88      0.67      0.76      2623\n",
      "           3       0.63      0.84      0.72      1196\n",
      "           4       0.75      0.96      0.84       469\n",
      "\n",
      "    accuracy                           0.91     16116\n",
      "   macro avg       0.78      0.87      0.81     16116\n",
      "weighted avg       0.92      0.91      0.91     16116\n",
      "\n"
     ]
    },
    {
     "data": {
      "text/plain": [
       "[{'0.0': {'precision': 0.999992075378995,\n",
       "   'recall': 0.9576270043104902,\n",
       "   'f1-score': 0.9783511260334806,\n",
       "   'support': 1185944.0},\n",
       "  '1.0': {'precision': 0.6461274991918677,\n",
       "   'recall': 0.8782861523503235,\n",
       "   'f1-score': 0.7445286712289141,\n",
       "   'support': 106964.0},\n",
       "  '2.0': {'precision': 0.8384234622006573,\n",
       "   'recall': 0.6460505189841931,\n",
       "   'f1-score': 0.729772188328856,\n",
       "   'support': 265326.0},\n",
       "  '3.0': {'precision': 0.5741204213523765,\n",
       "   'recall': 0.8318130539887187,\n",
       "   'f1-score': 0.6793505801212233,\n",
       "   'support': 124100.0},\n",
       "  '4.0': {'precision': 0.6947454679242758,\n",
       "   'recall': 0.9704041111889745,\n",
       "   'f1-score': 0.8097577139738417,\n",
       "   'support': 42810.0},\n",
       "  'accuracy': 0.8960538946314047,\n",
       "  'macro avg': {'precision': 0.7506817852096345,\n",
       "   'recall': 0.8568361681645401,\n",
       "   'f1-score': 0.7883520559372632,\n",
       "   'support': 1725144.0},\n",
       "  'weighted avg': {'precision': 0.9149919803624195,\n",
       "   'recall': 0.8960538946314047,\n",
       "   'f1-score': 0.8999295612254895,\n",
       "   'support': 1725144.0}}]"
      ]
     },
     "execution_count": 5,
     "metadata": {},
     "output_type": "execute_result"
    }
   ],
   "source": [
    "model = Seq2SeqTransformer(d_model=30, ff_dim=2048, num_heads=10, num_layers=6, num_classes=len(SAT_CLASSES_ACCURACY))\n",
    "\n",
    "train_and_test(\n",
    "    model,\n",
    "    train_dataset,\n",
    "    test_dataset,\n",
    "    val_dataset,\n",
    "    logs_path=Path(\"../logs/\"),\n",
    "    workers=4,\n",
    "    batch_size=128,\n",
    "    labels=SAT_CLASSES_ACCURACY,\n",
    "    epochs=10,\n",
    "    # epochs=1,\n",
    "    weight_decay=0.001,\n",
    "    label_smoothing=0.01,\n",
    "    lr=0.0001\n",
    ")"
   ]
  }
 ],
 "metadata": {
  "kernelspec": {
   "display_name": "base",
   "language": "python",
   "name": "python3"
  },
  "language_info": {
   "codemirror_mode": {
    "name": "ipython",
    "version": 3
   },
   "file_extension": ".py",
   "mimetype": "text/x-python",
   "name": "python",
   "nbconvert_exporter": "python",
   "pygments_lexer": "ipython3",
   "version": "3.10.13"
  }
 },
 "nbformat": 4,
 "nbformat_minor": 2
}
