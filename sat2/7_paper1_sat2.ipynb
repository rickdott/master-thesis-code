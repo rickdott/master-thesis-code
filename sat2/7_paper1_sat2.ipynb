{
 "cells": [
  {
   "cell_type": "code",
   "execution_count": 11,
   "metadata": {},
   "outputs": [
    {
     "name": "stdout",
     "output_type": "stream",
     "text": [
      "The autoreload extension is already loaded. To reload it, use:\n",
      "  %reload_ext autoreload\n"
     ]
    }
   ],
   "source": [
    "%load_ext autoreload\n",
    "%autoreload 2\n",
    "import xarray as xr\n",
    "import dask\n",
    "from pathlib import Path\n",
    "from hmpai.pytorch.models import *\n",
    "from hmpai.training import split_data_on_participants\n",
    "from hmpai.pytorch.training import train, validate, calculate_class_weights, train_and_test, k_fold_cross_validate, test\n",
    "from hmpai.pytorch.utilities import DEVICE, set_global_seed, get_summary_str, save_model, load_model\n",
    "from hmpai.pytorch.generators import SAT1Dataset\n",
    "from hmpai.data import SAT1_STAGES_ACCURACY, SAT_CLASSES_ACCURACY\n",
    "from hmpai.visualization import plot_confusion_matrix\n",
    "from hmpai.normalization import *\n",
    "from torchinfo import summary\n",
    "from hmpai.utilities import print_results, CHANNELS_2D, AR_SAT1_CHANNELS\n",
    "from torch.utils.data import DataLoader\n",
    "from mne.io import read_info\n",
    "import os\n",
    "from torch import nn\n",
    "DATA_PATH = Path(os.getenv(\"DATA_PATH\"))"
   ]
  },
  {
   "cell_type": "code",
   "execution_count": 2,
   "metadata": {},
   "outputs": [],
   "source": [
    "# Ensure Dask is imported and setup\n",
    "dask.config.set(scheduler='threads')\n",
    "\n",
    "# Load dataset with Dask\n",
    "data_path = DATA_PATH / \"sat2/split_stage_data_100hz.nc\"\n",
    "dataset = xr.open_dataset(data_path, chunks={'participant': 1})  # Adjust chunk size as needed\n",
    "indexer = dataset.event_name.str.contains(\"accuracy\").compute()\n",
    "# SAT2: Use Dask's parallel processing capabilities\n",
    "dataset_acc = dataset.where(indexer, drop=True).compute()\n",
    "del dataset"
   ]
  },
  {
   "cell_type": "code",
   "execution_count": 3,
   "metadata": {},
   "outputs": [],
   "source": [
    "shape_topological = False\n",
    "train_data, val_data, test_data = split_data_on_participants(\n",
    "    dataset_acc, 80, norm_min1_to_1\n",
    ")\n",
    "del dataset_acc\n",
    "train_dataset = SAT1Dataset(train_data, shape_topological=shape_topological, labels=SAT_CLASSES_ACCURACY)\n",
    "# del train_data\n",
    "val_dataset = SAT1Dataset(val_data, shape_topological=shape_topological, labels=SAT_CLASSES_ACCURACY)\n",
    "del val_data\n",
    "test_dataset = SAT1Dataset(test_data, shape_topological=shape_topological, labels=SAT_CLASSES_ACCURACY)\n",
    "del test_data"
   ]
  },
  {
   "cell_type": "code",
   "execution_count": 4,
   "metadata": {},
   "outputs": [],
   "source": [
    "item = train_dataset.__getitem__(0)[0]"
   ]
  },
  {
   "cell_type": "code",
   "execution_count": 22,
   "metadata": {},
   "outputs": [],
   "source": [
    "item_squozen = torch.unsqueeze(item, 0).permute(0, 2, 1)"
   ]
  },
  {
   "cell_type": "code",
   "execution_count": 23,
   "metadata": {},
   "outputs": [
    {
     "data": {
      "text/plain": [
       "torch.Size([1, 30, 224])"
      ]
     },
     "execution_count": 23,
     "metadata": {},
     "output_type": "execute_result"
    }
   ],
   "source": [
    "item_squozen.shape"
   ]
  },
  {
   "cell_type": "code",
   "execution_count": 14,
   "metadata": {},
   "outputs": [],
   "source": [
    "#input, [224,30] or [224, 30, 1] (squozen)\n",
    "conv = torch.nn.Conv2d(in_channels=1, out_channels=16, kernel_size=(1, 3))"
   ]
  },
  {
   "cell_type": "code",
   "execution_count": 31,
   "metadata": {},
   "outputs": [],
   "source": [
    "cnn = nn.Sequential(\n",
    "    nn.Conv1d(in_channels=30, out_channels=64, kernel_size=3, stride=1, padding=1),\n",
    "    nn.ReLU(),\n",
    "    nn.Conv1d(in_channels=64, out_channels=128, kernel_size=3, stride=1, padding=1),\n",
    "    nn.ReLU(),\n",
    ")"
   ]
  },
  {
   "cell_type": "code",
   "execution_count": 32,
   "metadata": {},
   "outputs": [
    {
     "data": {
      "text/plain": [
       "torch.Size([1, 128, 224])"
      ]
     },
     "execution_count": 32,
     "metadata": {},
     "output_type": "execute_result"
    }
   ],
   "source": [
    "cnn(item_squozen).shape"
   ]
  },
  {
   "cell_type": "code",
   "execution_count": 17,
   "metadata": {},
   "outputs": [
    {
     "data": {
      "text/plain": [
       "torch.Size([16, 224, 28])"
      ]
     },
     "execution_count": 17,
     "metadata": {},
     "output_type": "execute_result"
    }
   ],
   "source": [
    "conv(item_squozen).shape"
   ]
  },
  {
   "cell_type": "code",
   "execution_count": 59,
   "metadata": {},
   "outputs": [
    {
     "data": {
      "application/vnd.jupyter.widget-view+json": {
       "model_id": "eff3057528d04688bffa8fc92b712aba",
       "version_major": 2,
       "version_minor": 0
      },
      "text/plain": [
       "  0%|          | 0/276 [00:00<?, ? batch/s]"
      ]
     },
     "metadata": {},
     "output_type": "display_data"
    },
    {
     "name": "stdout",
     "output_type": "stream",
     "text": [
      "              precision    recall  f1-score   support\n",
      "\n",
      "           0       0.95      0.92      0.93      1527\n",
      "           1       0.69      0.89      0.78      1683\n",
      "           2       0.92      0.81      0.86      1683\n",
      "           3       0.93      0.72      0.81      1683\n",
      "           4       0.88      0.93      0.91      1683\n",
      "\n",
      "    accuracy                           0.86      8259\n",
      "   macro avg       0.87      0.86      0.86      8259\n",
      "weighted avg       0.87      0.86      0.86      8259\n",
      "\n"
     ]
    },
    {
     "data": {
      "application/vnd.jupyter.widget-view+json": {
       "model_id": "ec0e815b782743a18fab8ff55024f285",
       "version_major": 2,
       "version_minor": 0
      },
      "text/plain": [
       "  0%|          | 0/276 [00:00<?, ? batch/s]"
      ]
     },
     "metadata": {},
     "output_type": "display_data"
    },
    {
     "name": "stdout",
     "output_type": "stream",
     "text": [
      "              precision    recall  f1-score   support\n",
      "\n",
      "           0       0.94      0.93      0.93      1527\n",
      "           1       0.81      0.81      0.81      1683\n",
      "           2       0.94      0.85      0.90      1683\n",
      "           3       0.87      0.88      0.88      1683\n",
      "           4       0.88      0.96      0.91      1683\n",
      "\n",
      "    accuracy                           0.88      8259\n",
      "   macro avg       0.89      0.89      0.89      8259\n",
      "weighted avg       0.89      0.88      0.88      8259\n",
      "\n"
     ]
    },
    {
     "data": {
      "application/vnd.jupyter.widget-view+json": {
       "model_id": "ef01a6e489ae49df807282b9fb019ca0",
       "version_major": 2,
       "version_minor": 0
      },
      "text/plain": [
       "  0%|          | 0/276 [00:00<?, ? batch/s]"
      ]
     },
     "metadata": {},
     "output_type": "display_data"
    },
    {
     "name": "stdout",
     "output_type": "stream",
     "text": [
      "              precision    recall  f1-score   support\n",
      "\n",
      "           0       0.95      0.93      0.94      1527\n",
      "           1       0.86      0.75      0.80      1683\n",
      "           2       0.93      0.88      0.90      1683\n",
      "           3       0.85      0.92      0.88      1683\n",
      "           4       0.85      0.96      0.90      1683\n",
      "\n",
      "    accuracy                           0.88      8259\n",
      "   macro avg       0.89      0.89      0.88      8259\n",
      "weighted avg       0.89      0.88      0.88      8259\n",
      "\n"
     ]
    },
    {
     "data": {
      "application/vnd.jupyter.widget-view+json": {
       "model_id": "33623a46cbec4cf1a56e344b32da1f81",
       "version_major": 2,
       "version_minor": 0
      },
      "text/plain": [
       "  0%|          | 0/276 [00:00<?, ? batch/s]"
      ]
     },
     "metadata": {},
     "output_type": "display_data"
    },
    {
     "name": "stdout",
     "output_type": "stream",
     "text": [
      "              precision    recall  f1-score   support\n",
      "\n",
      "           0       0.94      0.93      0.93      1527\n",
      "           1       0.76      0.86      0.81      1683\n",
      "           2       0.98      0.76      0.86      1683\n",
      "           3       0.87      0.88      0.87      1683\n",
      "           4       0.87      0.96      0.91      1683\n",
      "\n",
      "    accuracy                           0.88      8259\n",
      "   macro avg       0.88      0.88      0.88      8259\n",
      "weighted avg       0.88      0.88      0.88      8259\n",
      "\n"
     ]
    },
    {
     "data": {
      "application/vnd.jupyter.widget-view+json": {
       "model_id": "0eeb0ea714c24d8c8161f43540b41a30",
       "version_major": 2,
       "version_minor": 0
      },
      "text/plain": [
       "  0%|          | 0/276 [00:00<?, ? batch/s]"
      ]
     },
     "metadata": {},
     "output_type": "display_data"
    },
    {
     "name": "stdout",
     "output_type": "stream",
     "text": [
      "              precision    recall  f1-score   support\n",
      "\n",
      "           0       0.94      0.93      0.93      1527\n",
      "           1       0.75      0.89      0.82      1683\n",
      "           2       0.95      0.85      0.90      1683\n",
      "           3       0.93      0.81      0.87      1683\n",
      "           4       0.90      0.95      0.92      1683\n",
      "\n",
      "    accuracy                           0.89      8259\n",
      "   macro avg       0.89      0.89      0.89      8259\n",
      "weighted avg       0.89      0.89      0.89      8259\n",
      "\n"
     ]
    },
    {
     "data": {
      "application/vnd.jupyter.widget-view+json": {
       "model_id": "0da46f1a90bc4aa4b82fe9ebf417f694",
       "version_major": 2,
       "version_minor": 0
      },
      "text/plain": [
       "  0%|          | 0/276 [00:00<?, ? batch/s]"
      ]
     },
     "metadata": {},
     "output_type": "display_data"
    },
    {
     "name": "stdout",
     "output_type": "stream",
     "text": [
      "              precision    recall  f1-score   support\n",
      "\n",
      "           0       0.94      0.93      0.93      1527\n",
      "           1       0.85      0.80      0.82      1683\n",
      "           2       0.95      0.87      0.91      1683\n",
      "           3       0.88      0.92      0.90      1683\n",
      "           4       0.86      0.96      0.91      1683\n",
      "\n",
      "    accuracy                           0.89      8259\n",
      "   macro avg       0.90      0.89      0.89      8259\n",
      "weighted avg       0.90      0.89      0.89      8259\n",
      "\n"
     ]
    },
    {
     "data": {
      "application/vnd.jupyter.widget-view+json": {
       "model_id": "5b17f0f6654a4b4cac54db47b1dcd4f7",
       "version_major": 2,
       "version_minor": 0
      },
      "text/plain": [
       "  0%|          | 0/276 [00:00<?, ? batch/s]"
      ]
     },
     "metadata": {},
     "output_type": "display_data"
    },
    {
     "name": "stdout",
     "output_type": "stream",
     "text": [
      "              precision    recall  f1-score   support\n",
      "\n",
      "           0       0.92      0.93      0.93      1527\n",
      "           1       0.76      0.88      0.81      1683\n",
      "           2       0.98      0.80      0.88      1683\n",
      "           3       0.92      0.86      0.89      1683\n",
      "           4       0.89      0.95      0.92      1683\n",
      "\n",
      "    accuracy                           0.88      8259\n",
      "   macro avg       0.89      0.89      0.89      8259\n",
      "weighted avg       0.89      0.88      0.89      8259\n",
      "\n"
     ]
    },
    {
     "data": {
      "application/vnd.jupyter.widget-view+json": {
       "model_id": "c4807e45984041f08d079dc2be8ebe71",
       "version_major": 2,
       "version_minor": 0
      },
      "text/plain": [
       "  0%|          | 0/276 [00:00<?, ? batch/s]"
      ]
     },
     "metadata": {},
     "output_type": "display_data"
    },
    {
     "name": "stdout",
     "output_type": "stream",
     "text": [
      "              precision    recall  f1-score   support\n",
      "\n",
      "           0       0.94      0.93      0.93      1527\n",
      "           1       0.69      0.91      0.78      1683\n",
      "           2       0.98      0.74      0.85      1683\n",
      "           3       0.93      0.80      0.86      1683\n",
      "           4       0.89      0.95      0.92      1683\n",
      "\n",
      "    accuracy                           0.87      8259\n",
      "   macro avg       0.89      0.87      0.87      8259\n",
      "weighted avg       0.88      0.87      0.87      8259\n",
      "\n"
     ]
    },
    {
     "data": {
      "application/vnd.jupyter.widget-view+json": {
       "model_id": "563641569af545a6ba5e21e1102eb268",
       "version_major": 2,
       "version_minor": 0
      },
      "text/plain": [
       "  0%|          | 0/276 [00:00<?, ? batch/s]"
      ]
     },
     "metadata": {},
     "output_type": "display_data"
    },
    {
     "name": "stdout",
     "output_type": "stream",
     "text": [
      "              precision    recall  f1-score   support\n",
      "\n",
      "           0       0.93      0.93      0.93      1527\n",
      "           1       0.74      0.91      0.81      1683\n",
      "           2       0.97      0.84      0.90      1683\n",
      "           3       0.93      0.83      0.88      1683\n",
      "           4       0.91      0.92      0.91      1683\n",
      "\n",
      "    accuracy                           0.89      8259\n",
      "   macro avg       0.90      0.89      0.89      8259\n",
      "weighted avg       0.89      0.89      0.89      8259\n",
      "\n"
     ]
    },
    {
     "data": {
      "text/plain": [
       "[{'0.0': {'precision': 0.9706521739130435,\n",
       "   'recall': 0.9089058524173028,\n",
       "   'f1-score': 0.9387647831800263,\n",
       "   'support': 1965.0},\n",
       "  '1.0': {'precision': 0.922286448298009,\n",
       "   'recall': 0.6984435797665369,\n",
       "   'f1-score': 0.7949072792693053,\n",
       "   'support': 2056.0},\n",
       "  '2.0': {'precision': 0.8721461187214612,\n",
       "   'recall': 0.9289883268482491,\n",
       "   'f1-score': 0.8996702779086199,\n",
       "   'support': 2056.0},\n",
       "  '3.0': {'precision': 0.8319583152409901,\n",
       "   'recall': 0.9319066147859922,\n",
       "   'f1-score': 0.8791007111722873,\n",
       "   'support': 2056.0},\n",
       "  '4.0': {'precision': 0.8742931709438887,\n",
       "   'recall': 0.9776264591439688,\n",
       "   'f1-score': 0.9230769230769231,\n",
       "   'support': 2056.0},\n",
       "  'accuracy': 0.8889979389537737,\n",
       "  'macro avg': {'precision': 0.8942672454234785,\n",
       "   'recall': 0.88917416659241,\n",
       "   'f1-score': 0.8871039949214324,\n",
       "   'support': 10189.0},\n",
       "  'weighted avg': {'precision': 0.8935850363261627,\n",
       "   'recall': 0.8889979389537737,\n",
       "   'f1-score': 0.8866426020731125,\n",
       "   'support': 10189.0}}]"
      ]
     },
     "execution_count": 59,
     "metadata": {},
     "output_type": "execute_result"
    }
   ],
   "source": [
    "# model = SAT1GRU(len(train_data.channels), len(train_data.samples), len(train_data.labels))\n",
    "# model = SAT1Mamba(len(train_data.channels), len(train_data.labels))\n",
    "model = MambaModel(embed_dim=256, n_channels=30, n_classes=5, n_layers=3, global_pool=True)\n",
    "train_and_test(\n",
    "    model,\n",
    "    train_dataset,\n",
    "    test_dataset,\n",
    "    val_dataset,\n",
    "    logs_path=Path(\"../logs/\"),\n",
    "    epochs=10,\n",
    "    workers=0,\n",
    "    batch_size=256,\n",
    "    labels=SAT_CLASSES_ACCURACY,\n",
    "    weight_decay=0.001,\n",
    "    label_smoothing=0.1,\n",
    "    lr=0.001,\n",
    "    do_spectral_decoupling=False,\n",
    ")"
   ]
  },
  {
   "cell_type": "code",
   "execution_count": 60,
   "metadata": {},
   "outputs": [],
   "source": [
    "test_loader = DataLoader(\n",
    "    test_dataset, 128, shuffle=True, num_workers=4, pin_memory=True\n",
    ")\n",
    "results, pred, true = test(model, test_loader, None, class_labels=SAT_CLASSES_ACCURACY)\n",
    "pred = pred.cpu()"
   ]
  },
  {
   "cell_type": "code",
   "execution_count": 61,
   "metadata": {},
   "outputs": [
    {
     "name": "stdout",
     "output_type": "stream",
     "text": [
      "0.8889979389537737\n"
     ]
    },
    {
     "data": {
      "image/png": "[encoded data removed]",
      "text/plain": [
       "<Figure size 400x400 with 2 Axes>"
      ]
     },
     "metadata": {},
     "output_type": "display_data"
    }
   ],
   "source": [
    "plot_confusion_matrix(true, pred, SAT_CLASSES_ACCURACY)"
   ]
  }
 ],
 "metadata": {
  "kernelspec": {
   "display_name": "base",
   "language": "python",
   "name": "python3"
  },
  "language_info": {
   "codemirror_mode": {
    "name": "ipython",
    "version": 3
   },
   "file_extension": ".py",
   "mimetype": "text/x-python",
   "name": "python",
   "nbconvert_exporter": "python",
   "pygments_lexer": "ipython3",
   "version": "3.10.14"
  }
 },
 "nbformat": 4,
 "nbformat_minor": 2
}
