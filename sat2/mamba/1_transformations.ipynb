{
 "cells": [
  {
   "cell_type": "markdown",
   "metadata": {},
   "source": [
    "Find transformations with base model that maximize the difference between prediction and shuffled prediction"
   ]
  },
  {
   "cell_type": "code",
   "execution_count": 1,
   "metadata": {},
   "outputs": [],
   "source": [
    "%load_ext autoreload\n",
    "%autoreload 2\n",
    "import netCDF4\n",
    "import xarray as xr\n",
    "from pathlib import Path\n",
    "from hmpai.pytorch.models import *\n",
    "from hmpai.training import split_data_on_participants, split_participants, split_participants_into_folds\n",
    "from hmpai.pytorch.training import train, validate, calculate_class_weights, train_and_test, k_fold_cross_validate, test, calculate_global_class_weights\n",
    "from hmpai.pytorch.utilities import DEVICE, set_global_seed, get_summary_str, save_model, load_model\n",
    "from hmpai.pytorch.generators import SAT1Dataset, MultiXArrayDataset, MultiXArrayProbaDataset\n",
    "from hmpai.data import SAT1_STAGES_ACCURACY, SAT_CLASSES_ACCURACY\n",
    "from hmpai.visualization import plot_confusion_matrix\n",
    "from hmpai.pytorch.normalization import *\n",
    "from torchinfo import summary\n",
    "from hmpai.utilities import print_results, CHANNELS_2D, AR_SAT1_CHANNELS\n",
    "from torch.utils.data import DataLoader\n",
    "from torchvision.transforms import Compose\n",
    "from hmpai.pytorch.transforms import *\n",
    "from collections import defaultdict\n",
    "from hmpai.pytorch.mamba import *\n",
    "import os\n",
    "from copy import deepcopy\n",
    "import json\n",
    "\n",
    "DATA_PATH = Path(os.getenv(\"DATA_PATH\"))\n",
    "models = []\n",
    "N_FOLDS = 2"
   ]
  },
  {
   "cell_type": "code",
   "execution_count": 2,
   "metadata": {},
   "outputs": [],
   "source": [
    "def base_mamba():\n",
    "    embed_dim = 64\n",
    "    out_channels = 128\n",
    "    base_cnn = nn.Sequential(\n",
    "        nn.Conv1d(\n",
    "            in_channels=embed_dim,\n",
    "            out_channels=out_channels,\n",
    "            kernel_size=50,\n",
    "            stride=1,\n",
    "            padding='same',\n",
    "        ),\n",
    "        nn.ReLU(),\n",
    "    )\n",
    "    model_kwargs = {\n",
    "        \"embed_dim\": embed_dim,\n",
    "        \"mamba_dim\": out_channels,\n",
    "        \"n_channels\": 19,\n",
    "        \"n_classes\": len(labels),\n",
    "        \"n_mamba_layers\": 5,\n",
    "        \"cnn_module\": base_cnn,\n",
    "        \"dropout\": 0.1,\n",
    "    }\n",
    "    model = ConfigurableMamba(**model_kwargs)\n",
    "    return model\n"
   ]
  },
  {
   "cell_type": "markdown",
   "metadata": {},
   "source": [
    "Define transform configurations, separately for train and testval, probably dont want most transforms in case of testval but should still be configurable\n",
    "\n",
    "Can probably create dataset per fold, then set transform by doing `train_data.transform=transform`"
   ]
  },
  {
   "cell_type": "code",
   "execution_count": 5,
   "metadata": {},
   "outputs": [],
   "source": [
    "# First index = train set, second index is testval set\n",
    "# transforms = [(Compose([]), Compose([])),\n",
    "#               (Compose([]), Compose([])),\n",
    "#               (Compose([]), Compose([])),\n",
    "#               (Compose([]), Compose([])),\n",
    "#               (Compose([]), Compose([])),\n",
    "#               (Compose([]), Compose([])),\n",
    "#               (Compose([]), Compose([])),\n",
    "#               (Compose([]), Compose([])),\n",
    "#               (Compose([]), Compose([])),]\n",
    "transforms = [\n",
    "    (None, None),\n",
    "    (Compose([StartJitterTransform(62)]), None),\n",
    "    (Compose([StartJitterTransform(62), ReverseTimeTransform()]), None),\n",
    "]"
   ]
  },
  {
   "cell_type": "code",
   "execution_count": 8,
   "metadata": {},
   "outputs": [
    {
     "name": "stdout",
     "output_type": "stream",
     "text": [
      "Fold 1: test fold: ['S17' 'S10' 'S15' 'S1' 'S18']\n"
     ]
    },
    {
     "data": {
      "application/vnd.jupyter.widget-view+json": {
       "model_id": "d53d08a7d53f4b4da7bae60a284451c2",
       "version_major": 2,
       "version_minor": 0
      },
      "text/plain": [
       "  0%|          | 0/140 [00:00<?, ? batch/s]"
      ]
     },
     "metadata": {},
     "output_type": "display_data"
    },
    {
     "data": {
      "application/vnd.jupyter.widget-view+json": {
       "model_id": "d40822bd042948c8bfc2da56da4e93d1",
       "version_major": 2,
       "version_minor": 0
      },
      "text/plain": [
       "  0%|          | 0/140 [00:00<?, ? batch/s]"
      ]
     },
     "metadata": {},
     "output_type": "display_data"
    },
    {
     "data": {
      "application/vnd.jupyter.widget-view+json": {
       "model_id": "7d794b318ecf44eda7946e3b66239728",
       "version_major": 2,
       "version_minor": 0
      },
      "text/plain": [
       "  0%|          | 0/140 [00:00<?, ? batch/s]"
      ]
     },
     "metadata": {},
     "output_type": "display_data"
    },
    {
     "data": {
      "application/vnd.jupyter.widget-view+json": {
       "model_id": "2d17ca9ebf5c423da0a700041864cbdf",
       "version_major": 2,
       "version_minor": 0
      },
      "text/plain": [
       "  0%|          | 0/140 [00:00<?, ? batch/s]"
      ]
     },
     "metadata": {},
     "output_type": "display_data"
    },
    {
     "data": {
      "application/vnd.jupyter.widget-view+json": {
       "model_id": "102dc8ec2d424dd38b633f83925fec7d",
       "version_major": 2,
       "version_minor": 0
      },
      "text/plain": [
       "  0%|          | 0/140 [00:00<?, ? batch/s]"
      ]
     },
     "metadata": {},
     "output_type": "display_data"
    },
    {
     "name": "stdout",
     "output_type": "stream",
     "text": [
      "Fold 1, transform: None: KLDivDiff: -0.7124738693237305\n"
     ]
    },
    {
     "data": {
      "application/vnd.jupyter.widget-view+json": {
       "model_id": "4d53e1f454ae472fbcdb5357a9a5b413",
       "version_major": 2,
       "version_minor": 0
      },
      "text/plain": [
       "  0%|          | 0/140 [00:00<?, ? batch/s]"
      ]
     },
     "metadata": {},
     "output_type": "display_data"
    },
    {
     "data": {
      "application/vnd.jupyter.widget-view+json": {
       "model_id": "c9165464d65c49f999f4a5067c807344",
       "version_major": 2,
       "version_minor": 0
      },
      "text/plain": [
       "  0%|          | 0/140 [00:00<?, ? batch/s]"
      ]
     },
     "metadata": {},
     "output_type": "display_data"
    },
    {
     "data": {
      "application/vnd.jupyter.widget-view+json": {
       "model_id": "05a2e61876044660933c6474c4d7b25d",
       "version_major": 2,
       "version_minor": 0
      },
      "text/plain": [
       "  0%|          | 0/140 [00:00<?, ? batch/s]"
      ]
     },
     "metadata": {},
     "output_type": "display_data"
    },
    {
     "data": {
      "application/vnd.jupyter.widget-view+json": {
       "model_id": "6ee8146eeeaa4e679ee928626411c772",
       "version_major": 2,
       "version_minor": 0
      },
      "text/plain": [
       "  0%|          | 0/140 [00:00<?, ? batch/s]"
      ]
     },
     "metadata": {},
     "output_type": "display_data"
    },
    {
     "data": {
      "application/vnd.jupyter.widget-view+json": {
       "model_id": "638d485d993f48479be85aee6c4485ed",
       "version_major": 2,
       "version_minor": 0
      },
      "text/plain": [
       "  0%|          | 0/140 [00:00<?, ? batch/s]"
      ]
     },
     "metadata": {},
     "output_type": "display_data"
    },
    {
     "name": "stdout",
     "output_type": "stream",
     "text": [
      "Fold 1, transform: Compose(\n",
      "    <hmpai.pytorch.transforms.StartJitterTransform object at 0x7f24bc11e4a0>\n",
      "): KLDivDiff: -0.9244378805160522\n"
     ]
    },
    {
     "data": {
      "application/vnd.jupyter.widget-view+json": {
       "model_id": "ab46bd4e1c504740978f25fcec18dc3c",
       "version_major": 2,
       "version_minor": 0
      },
      "text/plain": [
       "  0%|          | 0/140 [00:00<?, ? batch/s]"
      ]
     },
     "metadata": {},
     "output_type": "display_data"
    },
    {
     "data": {
      "application/vnd.jupyter.widget-view+json": {
       "model_id": "ec9fba317e8540c48651ab125a91db8f",
       "version_major": 2,
       "version_minor": 0
      },
      "text/plain": [
       "  0%|          | 0/140 [00:00<?, ? batch/s]"
      ]
     },
     "metadata": {},
     "output_type": "display_data"
    },
    {
     "data": {
      "application/vnd.jupyter.widget-view+json": {
       "model_id": "b98fe6a95978446e933ad09d8d93fab4",
       "version_major": 2,
       "version_minor": 0
      },
      "text/plain": [
       "  0%|          | 0/140 [00:00<?, ? batch/s]"
      ]
     },
     "metadata": {},
     "output_type": "display_data"
    },
    {
     "data": {
      "application/vnd.jupyter.widget-view+json": {
       "model_id": "387b5f6144ce42819e9940865eecaad2",
       "version_major": 2,
       "version_minor": 0
      },
      "text/plain": [
       "  0%|          | 0/140 [00:00<?, ? batch/s]"
      ]
     },
     "metadata": {},
     "output_type": "display_data"
    },
    {
     "data": {
      "application/vnd.jupyter.widget-view+json": {
       "model_id": "81d5abd54dbd45f2a4998a26217e6cda",
       "version_major": 2,
       "version_minor": 0
      },
      "text/plain": [
       "  0%|          | 0/140 [00:00<?, ? batch/s]"
      ]
     },
     "metadata": {},
     "output_type": "display_data"
    },
    {
     "name": "stdout",
     "output_type": "stream",
     "text": [
      "Fold 1, transform: Compose(\n",
      "    <hmpai.pytorch.transforms.StartJitterTransform object at 0x7f24bc11e6b0>\n",
      "    <hmpai.pytorch.transforms.ReverseTimeTransform object at 0x7f24bc11f160>\n",
      "): KLDivDiff: -0.7759724855422974\n",
      "Fold 2: test fold: ['S11' 'S13' 'S12' 'S16']\n"
     ]
    },
    {
     "data": {
      "application/vnd.jupyter.widget-view+json": {
       "model_id": "4b9343ef27604071a1b2f6c52d2a1c59",
       "version_major": 2,
       "version_minor": 0
      },
      "text/plain": [
       "  0%|          | 0/175 [00:00<?, ? batch/s]"
      ]
     },
     "metadata": {},
     "output_type": "display_data"
    },
    {
     "data": {
      "application/vnd.jupyter.widget-view+json": {
       "model_id": "67aebbd99e5b44e5aab506b7759c5644",
       "version_major": 2,
       "version_minor": 0
      },
      "text/plain": [
       "  0%|          | 0/175 [00:00<?, ? batch/s]"
      ]
     },
     "metadata": {},
     "output_type": "display_data"
    },
    {
     "data": {
      "application/vnd.jupyter.widget-view+json": {
       "model_id": "f150903b36e64a9db69db98a4d9bb2c5",
       "version_major": 2,
       "version_minor": 0
      },
      "text/plain": [
       "  0%|          | 0/175 [00:00<?, ? batch/s]"
      ]
     },
     "metadata": {},
     "output_type": "display_data"
    },
    {
     "data": {
      "application/vnd.jupyter.widget-view+json": {
       "model_id": "ee17615f89974fdaaf33c6dd2edd4c8f",
       "version_major": 2,
       "version_minor": 0
      },
      "text/plain": [
       "  0%|          | 0/175 [00:00<?, ? batch/s]"
      ]
     },
     "metadata": {},
     "output_type": "display_data"
    },
    {
     "data": {
      "application/vnd.jupyter.widget-view+json": {
       "model_id": "07b9f5ed2cc945ffb00690404adc4743",
       "version_major": 2,
       "version_minor": 0
      },
      "text/plain": [
       "  0%|          | 0/175 [00:00<?, ? batch/s]"
      ]
     },
     "metadata": {},
     "output_type": "display_data"
    },
    {
     "name": "stdout",
     "output_type": "stream",
     "text": [
      "Fold 2, transform: None: KLDivDiff: -1.0625234842300415\n"
     ]
    },
    {
     "data": {
      "application/vnd.jupyter.widget-view+json": {
       "model_id": "95dad238e1a049f1a4476fc6fd783bb8",
       "version_major": 2,
       "version_minor": 0
      },
      "text/plain": [
       "  0%|          | 0/175 [00:00<?, ? batch/s]"
      ]
     },
     "metadata": {},
     "output_type": "display_data"
    },
    {
     "data": {
      "application/vnd.jupyter.widget-view+json": {
       "model_id": "ff2af9bd773941bea02edaad152994af",
       "version_major": 2,
       "version_minor": 0
      },
      "text/plain": [
       "  0%|          | 0/175 [00:00<?, ? batch/s]"
      ]
     },
     "metadata": {},
     "output_type": "display_data"
    },
    {
     "data": {
      "application/vnd.jupyter.widget-view+json": {
       "model_id": "47b031887ab94cf09181dbaca7f1ee3d",
       "version_major": 2,
       "version_minor": 0
      },
      "text/plain": [
       "  0%|          | 0/175 [00:00<?, ? batch/s]"
      ]
     },
     "metadata": {},
     "output_type": "display_data"
    },
    {
     "data": {
      "application/vnd.jupyter.widget-view+json": {
       "model_id": "519be1fdcfb64e1baa6b446e177364ce",
       "version_major": 2,
       "version_minor": 0
      },
      "text/plain": [
       "  0%|          | 0/175 [00:00<?, ? batch/s]"
      ]
     },
     "metadata": {},
     "output_type": "display_data"
    },
    {
     "data": {
      "application/vnd.jupyter.widget-view+json": {
       "model_id": "b4039ff523a34cec9273eb8f007afe97",
       "version_major": 2,
       "version_minor": 0
      },
      "text/plain": [
       "  0%|          | 0/175 [00:00<?, ? batch/s]"
      ]
     },
     "metadata": {},
     "output_type": "display_data"
    },
    {
     "name": "stdout",
     "output_type": "stream",
     "text": [
      "Fold 2, transform: Compose(\n",
      "    <hmpai.pytorch.transforms.StartJitterTransform object at 0x7f24bc11e4a0>\n",
      "): KLDivDiff: -1.1777359247207642\n"
     ]
    },
    {
     "data": {
      "application/vnd.jupyter.widget-view+json": {
       "model_id": "4f8f0c1eb0f442c0b951aa182a17b5d9",
       "version_major": 2,
       "version_minor": 0
      },
      "text/plain": [
       "  0%|          | 0/175 [00:00<?, ? batch/s]"
      ]
     },
     "metadata": {},
     "output_type": "display_data"
    },
    {
     "data": {
      "application/vnd.jupyter.widget-view+json": {
       "model_id": "c55bccfec875437292c97aec33a2bccb",
       "version_major": 2,
       "version_minor": 0
      },
      "text/plain": [
       "  0%|          | 0/175 [00:00<?, ? batch/s]"
      ]
     },
     "metadata": {},
     "output_type": "display_data"
    },
    {
     "data": {
      "application/vnd.jupyter.widget-view+json": {
       "model_id": "f78aa222e6f247059750477de5638003",
       "version_major": 2,
       "version_minor": 0
      },
      "text/plain": [
       "  0%|          | 0/175 [00:00<?, ? batch/s]"
      ]
     },
     "metadata": {},
     "output_type": "display_data"
    },
    {
     "data": {
      "application/vnd.jupyter.widget-view+json": {
       "model_id": "7b18d4e3cb3d49ceace589102a50be29",
       "version_major": 2,
       "version_minor": 0
      },
      "text/plain": [
       "  0%|          | 0/175 [00:00<?, ? batch/s]"
      ]
     },
     "metadata": {},
     "output_type": "display_data"
    },
    {
     "data": {
      "application/vnd.jupyter.widget-view+json": {
       "model_id": "c605d1177cbe4059bc493ac36ce2a38c",
       "version_major": 2,
       "version_minor": 0
      },
      "text/plain": [
       "  0%|          | 0/175 [00:00<?, ? batch/s]"
      ]
     },
     "metadata": {},
     "output_type": "display_data"
    },
    {
     "name": "stdout",
     "output_type": "stream",
     "text": [
      "Fold 2, transform: Compose(\n",
      "    <hmpai.pytorch.transforms.StartJitterTransform object at 0x7f24bc11e6b0>\n",
      "    <hmpai.pytorch.transforms.ReverseTimeTransform object at 0x7f24bc11f160>\n",
      "): KLDivDiff: -1.0104631185531616\n"
     ]
    }
   ],
   "source": [
    "data_path_1 = DATA_PATH / \"sat2/stage_data_proba_250hz_part1.nc\"\n",
    "data_path_2 = DATA_PATH / \"sat2/stage_data_proba_250hz_part2.nc\"\n",
    "# data_paths = [data_path_1, data_path_2]\n",
    "data_paths = [data_path_1]\n",
    "\n",
    "logs_path = Path(\"../../logs/transformation_validation\")\n",
    "\n",
    "set_global_seed(42)\n",
    "folds = split_participants_into_folds(data_paths, N_FOLDS)\n",
    "\n",
    "results = defaultdict(list)\n",
    "torch.cuda.empty_cache()\n",
    "\n",
    "for i_fold in range(len(folds)):\n",
    "    train_folds = deepcopy(folds)\n",
    "    test_fold = train_folds.pop(i_fold)\n",
    "    train_fold = np.concatenate(train_folds, axis=0)\n",
    "    print(f\"Fold {i_fold + 1}: test fold: {test_fold}\")\n",
    "\n",
    "    labels = SAT_CLASSES_ACCURACY\n",
    "    whole_epoch = True\n",
    "    # Maybe 'accuracy'? probably not necessary\n",
    "    subset_cond = None\n",
    "    add_negative = True\n",
    "    skip_samples = 0\n",
    "    norm_fn = norm_mad_zscore\n",
    "\n",
    "    train_data = MultiXArrayProbaDataset(\n",
    "        data_paths,\n",
    "        participants_to_keep=train_fold,\n",
    "        normalization_fn=norm_fn,\n",
    "        whole_epoch=whole_epoch,\n",
    "        labels=labels,\n",
    "        subset_cond=subset_cond,\n",
    "        add_negative=add_negative,\n",
    "    )\n",
    "    norm_vars = get_norm_vars_from_global_statistics(train_data.statistics, norm_fn)\n",
    "    class_weights = train_data.statistics[\"class_weights\"]\n",
    "    testval_data = MultiXArrayProbaDataset(\n",
    "        data_paths,\n",
    "        participants_to_keep=test_fold,\n",
    "        normalization_fn=norm_fn,\n",
    "        norm_vars=norm_vars,\n",
    "        whole_epoch=whole_epoch,\n",
    "        labels=labels,\n",
    "        subset_cond=subset_cond,\n",
    "        add_negative=add_negative,\n",
    "    )\n",
    "\n",
    "    for i_t, (t_train, t_test) in enumerate(transforms):\n",
    "        # Set transforms\n",
    "        train_data.transform = t_train\n",
    "        testval_data.transform = t_test\n",
    "\n",
    "        model = base_mamba()\n",
    "        test_result = train_and_test(\n",
    "            model,\n",
    "            train_data,\n",
    "            testval_data,\n",
    "            testval_data,\n",
    "            logs_path=logs_path,\n",
    "            workers=8,\n",
    "            batch_size=64,\n",
    "            labels=labels,\n",
    "            lr=0.0001,\n",
    "            use_class_weights=False,\n",
    "            class_weights=class_weights,\n",
    "            whole_epoch=whole_epoch,\n",
    "            epochs=5,\n",
    "            additional_name=f\"transform-{str(t_train)}_fold-{i_fold}\",\n",
    "            do_test_shuffled=True\n",
    "        )\n",
    "        print(f\"Fold {i_fold + 1}, transform: {str(t_train)}: KLDivDiff: {test_result[0]['KLDivDiff']}\")\n",
    "        for i, result in enumerate(test_result):\n",
    "            results[i_t].append(result)\n",
    "\n",
    "for i_t, (t_train, t_test) in enumerate(transforms):\n",
    "    with open(logs_path / f\"results_{str(t_train)}.json\", \"w\") as f:\n",
    "        json.dump(results[i_t], f, indent=4)\n"
   ]
  },
  {
   "cell_type": "code",
   "execution_count": null,
   "metadata": {},
   "outputs": [],
   "source": []
  },
  {
   "cell_type": "code",
   "execution_count": null,
   "metadata": {},
   "outputs": [],
   "source": []
  },
  {
   "cell_type": "code",
   "execution_count": null,
   "metadata": {},
   "outputs": [],
   "source": []
  }
 ],
 "metadata": {
  "kernelspec": {
   "display_name": "base",
   "language": "python",
   "name": "python3"
  },
  "language_info": {
   "codemirror_mode": {
    "name": "ipython",
    "version": 3
   },
   "file_extension": ".py",
   "mimetype": "text/x-python",
   "name": "python",
   "nbconvert_exporter": "python",
   "pygments_lexer": "ipython3",
   "version": "3.10.9"
  }
 },
 "nbformat": 4,
 "nbformat_minor": 2
}
