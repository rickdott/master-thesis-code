{
 "cells": [
  {
   "cell_type": "code",
   "execution_count": 1,
   "metadata": {},
   "outputs": [],
   "source": [
    "%load_ext autoreload\n",
    "%autoreload 2\n",
    "import netCDF4\n",
    "import xarray as xr\n",
    "import numpy as np\n",
    "from pathlib import Path\n",
    "from hmpai.pytorch.models import *\n",
    "from hmpai.training import split_data_on_participants\n",
    "from hmpai.pytorch.pretraining import random_masking\n",
    "from hmpai.pytorch.training import train, validate, calculate_class_weights, train_and_test, k_fold_cross_validate, test\n",
    "from hmpai.pytorch.utilities import DEVICE, set_global_seed, get_summary_str, save_model, load_model\n",
    "from hmpai.pytorch.generators import SAT1Dataset\n",
    "from hmpai.data import SAT1_STAGES_ACCURACY, SAT_CLASSES_ACCURACY\n",
    "from hmpai.visualization import plot_confusion_matrix\n",
    "from hmpai.normalization import *\n",
    "from torchinfo import summary\n",
    "from hmpai.utilities import print_results, CHANNELS_2D, AR_SAT1_CHANNELS\n",
    "from torch.utils.data import DataLoader\n",
    "from mne.io import read_info\n",
    "import os\n",
    "DATA_PATH = Path(os.getenv(\"DATA_PATH\"))"
   ]
  },
  {
   "cell_type": "code",
   "execution_count": 2,
   "metadata": {},
   "outputs": [],
   "source": [
    "# Try if pre-training on a pretext task of SAT2 works to predict SAT1"
   ]
  },
  {
   "cell_type": "code",
   "execution_count": 3,
   "metadata": {},
   "outputs": [],
   "source": [
    "set_global_seed(42)\n",
    "data_path_sat2 = DATA_PATH / \"sat2/stage_data_100hz.nc\"\n",
    "dataset_sat2 = xr.load_dataset(data_path_sat2)\n",
    "data_path_sat1 = DATA_PATH / \"sat1/stage_data_100hz.nc\"\n",
    "dataset_sat1 = xr.load_dataset(data_path_sat1)\n",
    "dataset_sat1 = dataset_sat1.rename_vars({'RT': 'rt'})"
   ]
  },
  {
   "cell_type": "code",
   "execution_count": 4,
   "metadata": {},
   "outputs": [],
   "source": [
    "shape_topological = False\n",
    "info_to_keep = []\n",
    "train_data_sat2, val_data_sat2, test_data_sat2 = split_data_on_participants(\n",
    "    dataset_sat2, 60, norm_min1_to_1\n",
    ")\n",
    "train_data_sat1, val_data_sat1, test_data_sat1 = split_data_on_participants(\n",
    "    dataset_sat1, 60, norm_min1_to_1\n",
    ")\n",
    "train_dataset_sat2 = SAT1Dataset(train_data_sat2, shape_topological=shape_topological, labels=SAT_CLASSES_ACCURACY, set_to_zero=True, info_to_keep=info_to_keep, order_by_rt=False)\n",
    "val_dataset_sat2 = SAT1Dataset(val_data_sat2, shape_topological=shape_topological, labels=SAT_CLASSES_ACCURACY, set_to_zero=True, info_to_keep=info_to_keep, order_by_rt=False)\n",
    "test_dataset_sat2 = SAT1Dataset(test_data_sat2, shape_topological=shape_topological, labels=SAT_CLASSES_ACCURACY, set_to_zero=True, info_to_keep=info_to_keep, order_by_rt=False)\n",
    "train_dataset_sat1 = SAT1Dataset(train_data_sat2, shape_topological=shape_topological, labels=SAT_CLASSES_ACCURACY, set_to_zero=True, info_to_keep=info_to_keep, order_by_rt=False)\n",
    "val_dataset_sat1 = SAT1Dataset(val_data_sat2, shape_topological=shape_topological, labels=SAT_CLASSES_ACCURACY, set_to_zero=True, info_to_keep=info_to_keep, order_by_rt=False)\n",
    "test_dataset_sat1 = SAT1Dataset(test_data_sat2, shape_topological=shape_topological, labels=SAT_CLASSES_ACCURACY, set_to_zero=True, info_to_keep=info_to_keep, order_by_rt=False)"
   ]
  },
  {
   "cell_type": "code",
   "execution_count": 5,
   "metadata": {},
   "outputs": [
    {
     "name": "stderr",
     "output_type": "stream",
     "text": [
      "/opt/conda/lib/python3.10/site-packages/torch/nn/modules/transformer.py:306: UserWarning: enable_nested_tensor is True, but self.use_nested_tensor is False because encoder_layer.self_attn.batch_first was not True(use batch_first for better inference performance)\n",
      "  warnings.warn(f\"enable_nested_tensor is True, but self.use_nested_tensor is False because {why_not_sparsity_fast_path}\")\n"
     ]
    }
   ],
   "source": [
    "chk_path = Path(\"../models/sat2_pretrained.pt\")\n",
    "checkpoint = load_model(chk_path)\n",
    "model_kwargs = {\n",
    "    \"d_model\": len(test_data_sat2.channels),\n",
    "    \"num_heads\": 10,\n",
    "    \"ff_dim\": 2048,\n",
    "    \"num_layers\": 6,\n",
    "    \"num_classes\": len(SAT_CLASSES_ACCURACY),\n",
    "}\n",
    "model = Seq2SeqTransformer(**model_kwargs)\n",
    "model.load_state_dict(checkpoint[\"model_state_dict\"])\n",
    "model = model.to(DEVICE)"
   ]
  },
  {
   "cell_type": "code",
   "execution_count": 7,
   "metadata": {},
   "outputs": [
    {
     "data": {
      "application/vnd.jupyter.widget-view+json": {
       "model_id": "ccf3edb8dbc34efcb1aafb84bd28154a",
       "version_major": 2,
       "version_minor": 0
      },
      "text/plain": [
       "  0%|          | 0/162 [00:00<?, ? batch/s]"
      ]
     },
     "metadata": {},
     "output_type": "display_data"
    },
    {
     "data": {
      "application/vnd.jupyter.widget-view+json": {
       "model_id": "cfe9208f71e340a7ba87f9b46a4622fa",
       "version_major": 2,
       "version_minor": 0
      },
      "text/plain": [
       "  0%|          | 0/162 [00:00<?, ? batch/s]"
      ]
     },
     "metadata": {},
     "output_type": "display_data"
    },
    {
     "data": {
      "application/vnd.jupyter.widget-view+json": {
       "model_id": "16dcbfe4e60643bc8a01260d0ab9c582",
       "version_major": 2,
       "version_minor": 0
      },
      "text/plain": [
       "  0%|          | 0/162 [00:00<?, ? batch/s]"
      ]
     },
     "metadata": {},
     "output_type": "display_data"
    },
    {
     "data": {
      "application/vnd.jupyter.widget-view+json": {
       "model_id": "579f2f81ec57444da616557836435181",
       "version_major": 2,
       "version_minor": 0
      },
      "text/plain": [
       "  0%|          | 0/162 [00:00<?, ? batch/s]"
      ]
     },
     "metadata": {},
     "output_type": "display_data"
    },
    {
     "data": {
      "application/vnd.jupyter.widget-view+json": {
       "model_id": "74b62726c1c44087ba3c297a00152e22",
       "version_major": 2,
       "version_minor": 0
      },
      "text/plain": [
       "  0%|          | 0/162 [00:00<?, ? batch/s]"
      ]
     },
     "metadata": {},
     "output_type": "display_data"
    },
    {
     "data": {
      "application/vnd.jupyter.widget-view+json": {
       "model_id": "ec736c264b9c41ed9dbd8c86e1073efb",
       "version_major": 2,
       "version_minor": 0
      },
      "text/plain": [
       "  0%|          | 0/162 [00:00<?, ? batch/s]"
      ]
     },
     "metadata": {},
     "output_type": "display_data"
    },
    {
     "data": {
      "text/plain": [
       "[[0.00014582174480892718]]"
      ]
     },
     "execution_count": 7,
     "metadata": {},
     "output_type": "execute_result"
    }
   ],
   "source": [
    "torch.cuda.empty_cache()\n",
    "model = Seq2SeqTransformer(d_model=30, ff_dim=2048, num_heads=10, num_layers=6, num_classes=len(SAT_CLASSES_ACCURACY))\n",
    "\n",
    "train_and_test(\n",
    "    model,\n",
    "    train_dataset_sat2,\n",
    "    test_dataset_sat2,\n",
    "    val_dataset_sat2,\n",
    "    logs_path=Path(\"../logs/\"),\n",
    "    workers=0,\n",
    "    batch_size=128,\n",
    "    labels=SAT_CLASSES_ACCURACY,\n",
    "    epochs=10,\n",
    "    # epochs=1,\n",
    "    weight_decay=0.001,\n",
    "    label_smoothing=0.01,\n",
    "    lr=0.0001,\n",
    "    pretrain_fn=random_masking,\n",
    "    use_class_weights=False,\n",
    ")"
   ]
  },
  {
   "cell_type": "code",
   "execution_count": 11,
   "metadata": {},
   "outputs": [
    {
     "name": "stderr",
     "output_type": "stream",
     "text": [
      "/opt/conda/lib/python3.10/site-packages/torch/nn/modules/transformer.py:306: UserWarning: enable_nested_tensor is True, but self.use_nested_tensor is False because encoder_layer.self_attn.batch_first was not True(use batch_first for better inference performance)\n",
      "  warnings.warn(f\"enable_nested_tensor is True, but self.use_nested_tensor is False because {why_not_sparsity_fast_path}\")\n"
     ]
    }
   ],
   "source": [
    "model = Seq2SeqTransformer(d_model=30, ff_dim=2048, num_heads=10, num_layers=6, num_classes=len(SAT_CLASSES_ACCURACY))\n"
   ]
  },
  {
   "cell_type": "code",
   "execution_count": 8,
   "metadata": {},
   "outputs": [
    {
     "data": {
      "application/vnd.jupyter.widget-view+json": {
       "model_id": "b910a5e1730c405eb3062a9238b801d6",
       "version_major": 2,
       "version_minor": 0
      },
      "text/plain": [
       "  0%|          | 0/162 [00:00<?, ? batch/s]"
      ]
     },
     "metadata": {},
     "output_type": "display_data"
    },
    {
     "name": "stdout",
     "output_type": "stream",
     "text": [
      "              precision    recall  f1-score   support\n",
      "\n",
      "           0       1.00      0.92      0.96      7101\n",
      "           1       0.61      0.91      0.73       913\n",
      "           2       0.82      0.41      0.55      2383\n",
      "           3       0.54      0.62      0.58      1245\n",
      "           4       0.11      0.43      0.18       390\n",
      "\n",
      "    accuracy                           0.77     12032\n",
      "   macro avg       0.62      0.66      0.60     12032\n",
      "weighted avg       0.86      0.77      0.80     12032\n",
      "\n"
     ]
    },
    {
     "data": {
      "application/vnd.jupyter.widget-view+json": {
       "model_id": "fba426499ff84a3da4a34572c40ce7ed",
       "version_major": 2,
       "version_minor": 0
      },
      "text/plain": [
       "  0%|          | 0/162 [00:00<?, ? batch/s]"
      ]
     },
     "metadata": {},
     "output_type": "display_data"
    },
    {
     "name": "stdout",
     "output_type": "stream",
     "text": [
      "              precision    recall  f1-score   support\n",
      "\n",
      "           0       1.00      0.92      0.96      8004\n",
      "           1       0.62      0.95      0.75       837\n",
      "           2       0.83      0.66      0.74      2284\n",
      "           3       0.52      0.45      0.48      1070\n",
      "           4       0.28      0.82      0.42       401\n",
      "\n",
      "    accuracy                           0.84     12596\n",
      "   macro avg       0.65      0.76      0.67     12596\n",
      "weighted avg       0.88      0.84      0.85     12596\n",
      "\n"
     ]
    },
    {
     "data": {
      "application/vnd.jupyter.widget-view+json": {
       "model_id": "3ae877ba6f474faba38d4a4748946a2a",
       "version_major": 2,
       "version_minor": 0
      },
      "text/plain": [
       "  0%|          | 0/162 [00:00<?, ? batch/s]"
      ]
     },
     "metadata": {},
     "output_type": "display_data"
    },
    {
     "name": "stdout",
     "output_type": "stream",
     "text": [
      "              precision    recall  f1-score   support\n",
      "\n",
      "           0       1.00      0.91      0.95      6827\n",
      "           1       0.64      0.91      0.75       885\n",
      "           2       0.82      0.68      0.74      2255\n",
      "           3       0.57      0.58      0.57       913\n",
      "           4       0.37      0.96      0.54       400\n",
      "\n",
      "    accuracy                           0.84     11280\n",
      "   macro avg       0.68      0.80      0.71     11280\n",
      "weighted avg       0.88      0.84      0.85     11280\n",
      "\n"
     ]
    },
    {
     "data": {
      "application/vnd.jupyter.widget-view+json": {
       "model_id": "85fa7073f1464f1aa293ed29c6c0f810",
       "version_major": 2,
       "version_minor": 0
      },
      "text/plain": [
       "  0%|          | 0/162 [00:00<?, ? batch/s]"
      ]
     },
     "metadata": {},
     "output_type": "display_data"
    },
    {
     "name": "stdout",
     "output_type": "stream",
     "text": [
      "              precision    recall  f1-score   support\n",
      "\n",
      "           0       1.00      0.96      0.98      6681\n",
      "           1       0.65      0.95      0.77       848\n",
      "           2       0.91      0.65      0.76      2587\n",
      "           3       0.64      0.68      0.66      1018\n",
      "           4       0.43      0.96      0.59       428\n",
      "\n",
      "    accuracy                           0.87     11562\n",
      "   macro avg       0.73      0.84      0.75     11562\n",
      "weighted avg       0.90      0.87      0.87     11562\n",
      "\n"
     ]
    },
    {
     "data": {
      "application/vnd.jupyter.widget-view+json": {
       "model_id": "de11fd3c5897499287c564f8b0ecab31",
       "version_major": 2,
       "version_minor": 0
      },
      "text/plain": [
       "  0%|          | 0/162 [00:00<?, ? batch/s]"
      ]
     },
     "metadata": {},
     "output_type": "display_data"
    },
    {
     "name": "stdout",
     "output_type": "stream",
     "text": [
      "              precision    recall  f1-score   support\n",
      "\n",
      "           0       1.00      0.93      0.96      7088\n",
      "           1       0.63      0.94      0.75       816\n",
      "           2       0.87      0.66      0.75      2551\n",
      "           3       0.51      0.67      0.58       781\n",
      "           4       0.47      0.99      0.64       420\n",
      "\n",
      "    accuracy                           0.86     11656\n",
      "   macro avg       0.69      0.84      0.74     11656\n",
      "weighted avg       0.89      0.86      0.86     11656\n",
      "\n"
     ]
    },
    {
     "data": {
      "application/vnd.jupyter.widget-view+json": {
       "model_id": "b4abe3dd1d034233b64905e930acf76a",
       "version_major": 2,
       "version_minor": 0
      },
      "text/plain": [
       "  0%|          | 0/162 [00:00<?, ? batch/s]"
      ]
     },
     "metadata": {},
     "output_type": "display_data"
    },
    {
     "name": "stdout",
     "output_type": "stream",
     "text": [
      "              precision    recall  f1-score   support\n",
      "\n",
      "           0       1.00      0.92      0.96      7028\n",
      "           1       0.63      0.94      0.76       822\n",
      "           2       0.85      0.68      0.75      2520\n",
      "           3       0.59      0.72      0.65      1161\n",
      "           4       0.48      0.99      0.65       407\n",
      "\n",
      "    accuracy                           0.85     11938\n",
      "   macro avg       0.71      0.85      0.75     11938\n",
      "weighted avg       0.89      0.85      0.86     11938\n",
      "\n"
     ]
    },
    {
     "data": {
      "application/vnd.jupyter.widget-view+json": {
       "model_id": "6211e8d8c4d5417c849cdeb5f2e93cb7",
       "version_major": 2,
       "version_minor": 0
      },
      "text/plain": [
       "  0%|          | 0/162 [00:00<?, ? batch/s]"
      ]
     },
     "metadata": {},
     "output_type": "display_data"
    },
    {
     "name": "stdout",
     "output_type": "stream",
     "text": [
      "              precision    recall  f1-score   support\n",
      "\n",
      "           0       1.00      0.95      0.97      7265\n",
      "           1       0.66      0.96      0.78       849\n",
      "           2       0.87      0.70      0.77      2274\n",
      "           3       0.66      0.66      0.66      1038\n",
      "           4       0.48      1.00      0.65       418\n",
      "\n",
      "    accuracy                           0.88     11844\n",
      "   macro avg       0.73      0.85      0.77     11844\n",
      "weighted avg       0.90      0.88      0.88     11844\n",
      "\n"
     ]
    },
    {
     "data": {
      "application/vnd.jupyter.widget-view+json": {
       "model_id": "96ca2538f998420fabf3b0802cec2a12",
       "version_major": 2,
       "version_minor": 0
      },
      "text/plain": [
       "  0%|          | 0/162 [00:00<?, ? batch/s]"
      ]
     },
     "metadata": {},
     "output_type": "display_data"
    },
    {
     "name": "stdout",
     "output_type": "stream",
     "text": [
      "              precision    recall  f1-score   support\n",
      "\n",
      "           0       1.00      0.94      0.97      7239\n",
      "           1       0.67      0.93      0.77       887\n",
      "           2       0.87      0.70      0.77      2335\n",
      "           3       0.64      0.70      0.67      1047\n",
      "           4       0.50      0.99      0.67       430\n",
      "\n",
      "    accuracy                           0.87     11938\n",
      "   macro avg       0.74      0.85      0.77     11938\n",
      "weighted avg       0.90      0.87      0.88     11938\n",
      "\n"
     ]
    },
    {
     "data": {
      "application/vnd.jupyter.widget-view+json": {
       "model_id": "9445fe8b3d934e8f933d7e9e84bc3b4e",
       "version_major": 2,
       "version_minor": 0
      },
      "text/plain": [
       "  0%|          | 0/162 [00:00<?, ? batch/s]"
      ]
     },
     "metadata": {},
     "output_type": "display_data"
    },
    {
     "name": "stdout",
     "output_type": "stream",
     "text": [
      "              precision    recall  f1-score   support\n",
      "\n",
      "           0       1.00      0.97      0.98     16340\n",
      "           1       0.65      0.94      0.77       853\n",
      "           2       0.85      0.71      0.77      2516\n",
      "           3       0.68      0.76      0.72      1588\n",
      "           4       0.51      0.98      0.67       417\n",
      "\n",
      "    accuracy                           0.92     21714\n",
      "   macro avg       0.74      0.87      0.78     21714\n",
      "weighted avg       0.94      0.92      0.93     21714\n",
      "\n"
     ]
    },
    {
     "data": {
      "application/vnd.jupyter.widget-view+json": {
       "model_id": "187ce4d034b34f17abca417704b7d842",
       "version_major": 2,
       "version_minor": 0
      },
      "text/plain": [
       "  0%|          | 0/162 [00:00<?, ? batch/s]"
      ]
     },
     "metadata": {},
     "output_type": "display_data"
    },
    {
     "name": "stdout",
     "output_type": "stream",
     "text": [
      "              precision    recall  f1-score   support\n",
      "\n",
      "           0       1.00      0.97      0.98     16600\n",
      "           1       0.62      0.95      0.75       820\n",
      "           2       0.83      0.67      0.74      2543\n",
      "           3       0.62      0.75      0.68      1350\n",
      "           4       0.52      0.97      0.67       401\n",
      "\n",
      "    accuracy                           0.92     21714\n",
      "   macro avg       0.72      0.86      0.77     21714\n",
      "weighted avg       0.93      0.92      0.92     21714\n",
      "\n"
     ]
    },
    {
     "data": {
      "text/plain": [
       "[{'0.0': {'precision': 1.0,\n",
       "   'recall': 0.9615188592322816,\n",
       "   'f1-score': 0.9803819674806596,\n",
       "   'support': 1102696.0},\n",
       "  '1.0': {'precision': 0.6869078307185414,\n",
       "   'recall': 0.8667564219936453,\n",
       "   'f1-score': 0.7664226972509393,\n",
       "   'support': 92845.0},\n",
       "  '2.0': {'precision': 0.8420760593608501,\n",
       "   'recall': 0.6581997765984869,\n",
       "   'f1-score': 0.7388698276218428,\n",
       "   'support': 244403.0},\n",
       "  '3.0': {'precision': 0.5597795188241004,\n",
       "   'recall': 0.760514689952054,\n",
       "   'f1-score': 0.64488739611248,\n",
       "   'support': 106161.0},\n",
       "  '4.0': {'precision': 0.5277597604228481,\n",
       "   'recall': 0.9796096111481121,\n",
       "   'f1-score': 0.6859613090700365,\n",
       "   'support': 39038.0},\n",
       "  'accuracy': 0.8961853914757217,\n",
       "  'macro avg': {'precision': 0.7233046338652681,\n",
       "   'recall': 0.845319871784916,\n",
       "   'f1-score': 0.7633046395071916,\n",
       "   'support': 1585143.0},\n",
       "  'weighted avg': {'precision': 0.9161995553109753,\n",
       "   'recall': 0.8961853914757217,\n",
       "   'f1-score': 0.9008930047710214,\n",
       "   'support': 1585143.0}}]"
      ]
     },
     "execution_count": 8,
     "metadata": {},
     "output_type": "execute_result"
    }
   ],
   "source": [
    "# Fine tune\n",
    "model.set_pretraining(False)\n",
    "train_and_test(\n",
    "    model,\n",
    "    train_dataset_sat1,\n",
    "    test_dataset_sat1,\n",
    "    val_dataset_sat1,\n",
    "    logs_path=Path(\"../logs/\"),\n",
    "    workers=0,\n",
    "    batch_size=128,\n",
    "    labels=SAT_CLASSES_ACCURACY,\n",
    "    epochs=10,\n",
    "    # epochs=1,\n",
    "    weight_decay=0.001,\n",
    "    label_smoothing=0.01,\n",
    "    lr=0.00001,\n",
    "    pretrain_fn=None,\n",
    "    use_class_weights=True,\n",
    ")"
   ]
  }
 ],
 "metadata": {
  "kernelspec": {
   "display_name": "base",
   "language": "python",
   "name": "python3"
  },
  "language_info": {
   "codemirror_mode": {
    "name": "ipython",
    "version": 3
   },
   "file_extension": ".py",
   "mimetype": "text/x-python",
   "name": "python",
   "nbconvert_exporter": "python",
   "pygments_lexer": "ipython3",
   "version": "3.10.13"
  }
 },
 "nbformat": 4,
 "nbformat_minor": 2
}
