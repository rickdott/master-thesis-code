{
 "cells": [
  {
   "cell_type": "code",
   "execution_count": 1,
   "metadata": {},
   "outputs": [],
   "source": [
    "%load_ext autoreload\n",
    "%autoreload 2\n",
    "import netCDF4
import xarray as xr\n",
    "from pathlib import Path\n",
    "from hmpai.pytorch.models import *\n",
    "from hmpai.training import split_data_on_participants\n",
    "from hmpai.pytorch.training import train, validate, calculate_class_weights, train_and_test, k_fold_cross_validate, test\n",
    "from hmpai.pytorch.utilities import DEVICE, set_global_seed, get_summary_str, save_model, load_model\n",
    "from hmpai.pytorch.generators import SAT1Dataset\n",
    "from hmpai.data import SAT1_STAGES_ACCURACY, SAT_CLASSES_ACCURACY\n",
    "from hmpai.visualization import plot_confusion_matrix\n",
    "from hmpai.normalization import *\n",
    "from torchinfo import summary\n",
    "from hmpai.utilities import print_results, CHANNELS_2D, AR_SAT1_CHANNELS\n",
    "from torch.utils.data import DataLoader\n",
    "from mne.io import read_info\n",
    "import os\n",
    "DATA_PATH = Path(os.getenv(\"DATA_PATH\"))"
   ]
  },
  {
   "cell_type": "code",
   "execution_count": 2,
   "metadata": {},
   "outputs": [],
   "source": [
    "set_global_seed(42)\n",
    "data_path_sat1 = DATA_PATH / \"sat1/window_stage_data_100hz_no_negative.nc\"\n",
    "dataset_sat1 = xr.load_dataset(data_path_sat1)"
   ]
  },
  {
   "cell_type": "code",
   "execution_count": 3,
   "metadata": {},
   "outputs": [],
   "source": [
    "shape_topological = False\n",
    "train_data_sat1, val_data_sat1, test_data_sat1 = split_data_on_participants(\n",
    "    dataset_sat1, 60, norm_min1_to_1\n",
    ")\n",
    "train_dataset = SAT1Dataset(train_data_sat1, shape_topological=shape_topological, labels=SAT_CLASSES_ACCURACY, set_to_zero=True)\n",
    "val_dataset = SAT1Dataset(val_data_sat1, shape_topological=shape_topological, labels=SAT_CLASSES_ACCURACY, set_to_zero=True)\n",
    "test_dataset = SAT1Dataset(test_data_sat1, shape_topological=shape_topological, labels=SAT_CLASSES_ACCURACY, set_to_zero=True)"
   ]
  },
  {
   "cell_type": "code",
   "execution_count": 4,
   "metadata": {},
   "outputs": [
    {
     "data": {
      "text/plain": [
       "tensor([0, 0, 0, 0, 0, 0, 0, 0, 0, 0, 0, 0, 1, 1, 1, 1, 1, 1, 1, 1, 1, 1, 1, 0,\n",
       "        0, 0, 0, 0, 0, 0, 2, 2, 2, 2, 2, 2, 2, 2, 2, 2, 3, 3, 3, 3, 3, 3, 3, 3,\n",
       "        3, 3, 3, 0, 0, 0, 0, 0, 0, 0, 0, 0, 0, 0, 0, 0, 0, 0, 0, 0, 0, 0, 0, 0,\n",
       "        0, 0, 0, 0, 0, 0, 0, 0, 0, 0, 0, 0, 0, 0, 0, 0, 0, 0, 0, 0, 0, 0, 0, 0,\n",
       "        0, 0, 0, 0, 4, 4, 4, 4, 4, 4, 4, 4, 4, 4, 4, 0, 0, 0, 0, 0, 0, 0, 0, 0,\n",
       "        0, 0, 0, 0, 0, 0, 0, 0, 0, 0, 0, 0, 0, 0, 0, 0, 0, 0, 0, 0, 0, 0, 0, 0,\n",
       "        0, 0, 0, 0, 0, 0, 0, 0, 0, 0, 0, 0, 0, 0, 0, 0, 0, 0, 0, 0, 0, 0, 0, 0,\n",
       "        0, 0, 0, 0, 0, 0, 0, 0, 0, 0, 0, 0, 0, 0, 0, 0, 0, 0, 0, 0, 0, 0, 0, 0,\n",
       "        0, 0, 0, 0, 0, 0, 0])"
      ]
     },
     "execution_count": 4,
     "metadata": {},
     "output_type": "execute_result"
    }
   ],
   "source": [
    "train_dataset.labels[2]"
   ]
  },
  {
   "cell_type": "code",
   "execution_count": 35,
   "metadata": {},
   "outputs": [],
   "source": [
    "model = Seq2SeqTransformer(input_dim=30, ff_dim=128, num_heads=8, num_layers=6, num_classes=5)"
   ]
  },
  {
   "cell_type": "code",
   "execution_count": 36,
   "metadata": {},
   "outputs": [
    {
     "data": {
      "application/vnd.jupyter.widget-view+json": {
       "model_id": "96d6286a302e404888004331a1422a95",
       "version_major": 2,
       "version_minor": 0
      },
      "text/plain": [
       "  0%|          | 0/44 [00:00<?, ? batch/s]"
      ]
     },
     "metadata": {},
     "output_type": "display_data"
    },
    {
     "name": "stdout",
     "output_type": "stream",
     "text": [
      "9085 12736\n",
      "9302 12736\n",
      "9937 12736\n",
      "9684 12736\n",
      "9294 12736\n",
      "9216 12736\n",
      "9696 12736\n",
      "8914 12736\n",
      "9340 12736\n",
      "9645 12736\n",
      "9544 12736\n",
      "9568 12736\n",
      "9099 12736\n",
      "9088 12736\n",
      "302 398\n"
     ]
    },
    {
     "data": {
      "application/vnd.jupyter.widget-view+json": {
       "model_id": "d6f313b5b5d04637a1430302fa4ceb0a",
       "version_major": 2,
       "version_minor": 0
      },
      "text/plain": [
       "  0%|          | 0/44 [00:00<?, ? batch/s]"
      ]
     },
     "metadata": {},
     "output_type": "display_data"
    },
    {
     "name": "stdout",
     "output_type": "stream",
     "text": [
      "9478 12736\n",
      "9571 12736\n",
      "9344 12736\n",
      "9321 12736\n",
      "9540 12736\n",
      "9453 12736\n",
      "9483 12736\n",
      "9358 12736\n",
      "9528 12736\n",
      "9783 12736\n",
      "9440 12736\n",
      "9658 12736\n",
      "9581 12736\n",
      "9580 12736\n",
      "270 398\n"
     ]
    },
    {
     "data": {
      "application/vnd.jupyter.widget-view+json": {
       "model_id": "fb909de3482541ebbad2be30885d01f8",
       "version_major": 2,
       "version_minor": 0
      },
      "text/plain": [
       "  0%|          | 0/44 [00:00<?, ? batch/s]"
      ]
     },
     "metadata": {},
     "output_type": "display_data"
    },
    {
     "name": "stdout",
     "output_type": "stream",
     "text": [
      "9370 12736\n",
      "9729 12736\n",
      "9690 12736\n",
      "9601 12736\n",
      "9453 12736\n",
      "9588 12736\n",
      "9767 12736\n",
      "9441 12736\n",
      "9487 12736\n",
      "9746 12736\n",
      "9638 12736\n",
      "9742 12736\n",
      "9639 12736\n",
      "9781 12736\n",
      "297 398\n"
     ]
    },
    {
     "data": {
      "application/vnd.jupyter.widget-view+json": {
       "model_id": "d6de8d60ab834f7e919dfba3db92c8cf",
       "version_major": 2,
       "version_minor": 0
      },
      "text/plain": [
       "  0%|          | 0/44 [00:00<?, ? batch/s]"
      ]
     },
     "metadata": {},
     "output_type": "display_data"
    },
    {
     "name": "stdout",
     "output_type": "stream",
     "text": [
      "9854 12736\n",
      "9548 12736\n",
      "9790 12736\n",
      "9767 12736\n",
      "9494 12736\n",
      "9735 12736\n",
      "9617 12736\n",
      "9434 12736\n",
      "9797 12736\n",
      "9577 12736\n",
      "9850 12736\n",
      "9610 12736\n",
      "9789 12736\n",
      "9957 12736\n",
      "299 398\n"
     ]
    },
    {
     "data": {
      "application/vnd.jupyter.widget-view+json": {
       "model_id": "a4a858b47508415e9eb6d84dd55b44c7",
       "version_major": 2,
       "version_minor": 0
      },
      "text/plain": [
       "  0%|          | 0/44 [00:00<?, ? batch/s]"
      ]
     },
     "metadata": {},
     "output_type": "display_data"
    },
    {
     "name": "stdout",
     "output_type": "stream",
     "text": [
      "10002 12736\n",
      "9821 12736\n",
      "10071 12736\n",
      "9792 12736\n",
      "9871 12736\n",
      "9780 12736\n",
      "9726 12736\n",
      "9603 12736\n",
      "9948 12736\n",
      "9492 12736\n",
      "9980 12736\n",
      "9919 12736\n",
      "9867 12736\n",
      "9963 12736\n",
      "357 398\n"
     ]
    },
    {
     "data": {
      "application/vnd.jupyter.widget-view+json": {
       "model_id": "ab770c5925b7435197a9345bcf839eb9",
       "version_major": 2,
       "version_minor": 0
      },
      "text/plain": [
       "  0%|          | 0/44 [00:00<?, ? batch/s]"
      ]
     },
     "metadata": {},
     "output_type": "display_data"
    },
    {
     "name": "stdout",
     "output_type": "stream",
     "text": [
      "9713 12736\n",
      "9557 12736\n",
      "9569 12736\n",
      "9770 12736\n",
      "9675 12736\n",
      "9845 12736\n",
      "9465 12736\n",
      "9979 12736\n",
      "9660 12736\n",
      "9679 12736\n",
      "10066 12736\n",
      "10180 12736\n",
      "9763 12736\n",
      "9468 12736\n",
      "237 398\n"
     ]
    },
    {
     "data": {
      "application/vnd.jupyter.widget-view+json": {
       "model_id": "73d179c9d39e4bdba80a74da6c892b2c",
       "version_major": 2,
       "version_minor": 0
      },
      "text/plain": [
       "  0%|          | 0/44 [00:00<?, ? batch/s]"
      ]
     },
     "metadata": {},
     "output_type": "display_data"
    },
    {
     "name": "stdout",
     "output_type": "stream",
     "text": [
      "9831 12736\n",
      "9857 12736\n",
      "9778 12736\n",
      "9604 12736\n",
      "9768 12736\n",
      "9749 12736\n",
      "10045 12736\n",
      "9791 12736\n",
      "9463 12736\n",
      "9889 12736\n",
      "9596 12736\n",
      "9654 12736\n",
      "9646 12736\n",
      "10003 12736\n",
      "326 398\n"
     ]
    },
    {
     "data": {
      "application/vnd.jupyter.widget-view+json": {
       "model_id": "50b324d1cacd49a0812942ccce0ab2d8",
       "version_major": 2,
       "version_minor": 0
      },
      "text/plain": [
       "  0%|          | 0/44 [00:00<?, ? batch/s]"
      ]
     },
     "metadata": {},
     "output_type": "display_data"
    },
    {
     "name": "stdout",
     "output_type": "stream",
     "text": [
      "10039 12736\n",
      "9737 12736\n",
      "9801 12736\n",
      "9995 12736\n",
      "9713 12736\n",
      "9729 12736\n",
      "9533 12736\n",
      "9813 12736\n",
      "9599 12736\n",
      "9681 12736\n",
      "9693 12736\n",
      "9617 12736\n",
      "9875 12736\n",
      "9698 12736\n",
      "335 398\n"
     ]
    },
    {
     "data": {
      "application/vnd.jupyter.widget-view+json": {
       "model_id": "6e3d0e43b0e1413b8b22ac2965b48941",
       "version_major": 2,
       "version_minor": 0
      },
      "text/plain": [
       "  0%|          | 0/44 [00:00<?, ? batch/s]"
      ]
     },
     "metadata": {},
     "output_type": "display_data"
    },
    {
     "name": "stdout",
     "output_type": "stream",
     "text": [
      "9949 12736\n",
      "10009 12736\n",
      "9909 12736\n",
      "10214 12736\n",
      "9794 12736\n",
      "10064 12736\n",
      "9951 12736\n",
      "10063 12736\n",
      "9884 12736\n",
      "9859 12736\n",
      "10296 12736\n",
      "9889 12736\n",
      "9997 12736\n",
      "10173 12736\n",
      "345 398\n"
     ]
    },
    {
     "data": {
      "application/vnd.jupyter.widget-view+json": {
       "model_id": "7e0407fc1e3549378505f9737115d318",
       "version_major": 2,
       "version_minor": 0
      },
      "text/plain": [
       "  0%|          | 0/44 [00:00<?, ? batch/s]"
      ]
     },
     "metadata": {},
     "output_type": "display_data"
    },
    {
     "name": "stdout",
     "output_type": "stream",
     "text": [
      "9905 12736\n",
      "9636 12736\n",
      "9872 12736\n",
      "10035 12736\n",
      "9475 12736\n",
      "9514 12736\n",
      "9847 12736\n",
      "9572 12736\n",
      "9890 12736\n",
      "9854 12736\n",
      "9748 12736\n",
      "9960 12736\n",
      "9626 12736\n",
      "9717 12736\n",
      "327 398\n"
     ]
    },
    {
     "data": {
      "application/vnd.jupyter.widget-view+json": {
       "model_id": "721df51c267a4df4bb1008fb30e6b1cf",
       "version_major": 2,
       "version_minor": 0
      },
      "text/plain": [
       "  0%|          | 0/44 [00:00<?, ? batch/s]"
      ]
     },
     "metadata": {},
     "output_type": "display_data"
    },
    {
     "name": "stdout",
     "output_type": "stream",
     "text": [
      "9797 12736\n",
      "9862 12736\n",
      "9926 12736\n",
      "9786 12736\n",
      "9503 12736\n",
      "9680 12736\n",
      "9653 12736\n",
      "10131 12736\n",
      "10091 12736\n",
      "10185 12736\n",
      "9507 12736\n",
      "9761 12736\n",
      "9959 12736\n",
      "9785 12736\n",
      "289 398\n"
     ]
    },
    {
     "data": {
      "application/vnd.jupyter.widget-view+json": {
       "model_id": "16dda599084c4d249b7c9583d5d4eca5",
       "version_major": 2,
       "version_minor": 0
      },
      "text/plain": [
       "  0%|          | 0/44 [00:00<?, ? batch/s]"
      ]
     },
     "metadata": {},
     "output_type": "display_data"
    },
    {
     "name": "stdout",
     "output_type": "stream",
     "text": [
      "9648 12736\n",
      "9886 12736\n",
      "9708 12736\n",
      "10147 12736\n",
      "10028 12736\n",
      "9751 12736\n",
      "10014 12736\n",
      "9830 12736\n",
      "10101 12736\n",
      "10286 12736\n",
      "9642 12736\n",
      "9813 12736\n",
      "10006 12736\n",
      "10134 12736\n",
      "271 398\n"
     ]
    },
    {
     "data": {
      "application/vnd.jupyter.widget-view+json": {
       "model_id": "31c000ab78e9436eb63cdba93fc73850",
       "version_major": 2,
       "version_minor": 0
      },
      "text/plain": [
       "  0%|          | 0/44 [00:00<?, ? batch/s]"
      ]
     },
     "metadata": {},
     "output_type": "display_data"
    },
    {
     "name": "stdout",
     "output_type": "stream",
     "text": [
      "9763 12736\n",
      "9923 12736\n",
      "9935 12736\n",
      "9814 12736\n",
      "9961 12736\n",
      "9902 12736\n",
      "9669 12736\n",
      "9842 12736\n",
      "9952 12736\n",
      "9850 12736\n",
      "9876 12736\n",
      "9719 12736\n",
      "9792 12736\n",
      "9907 12736\n",
      "315 398\n"
     ]
    },
    {
     "data": {
      "application/vnd.jupyter.widget-view+json": {
       "model_id": "ea0d13892cab4b5c8419f82d701c30b3",
       "version_major": 2,
       "version_minor": 0
      },
      "text/plain": [
       "  0%|          | 0/44 [00:00<?, ? batch/s]"
      ]
     },
     "metadata": {},
     "output_type": "display_data"
    },
    {
     "name": "stdout",
     "output_type": "stream",
     "text": [
      "9613 12736\n",
      "9973 12736\n",
      "9606 12736\n",
      "9932 12736\n",
      "9819 12736\n",
      "9731 12736\n",
      "9768 12736\n",
      "9757 12736\n",
      "9610 12736\n",
      "10032 12736\n",
      "10076 12736\n",
      "9988 12736\n",
      "9583 12736\n",
      "9626 12736\n",
      "328 398\n"
     ]
    },
    {
     "data": {
      "text/plain": [
       "[{'0': {'precision': 0.999728659493102,\n",
       "   'recall': 0.8113142629076321,\n",
       "   'f1-score': 0.8957204828796523,\n",
       "   'support': 145321.0},\n",
       "  '1': {'precision': 0.5299823008849558,\n",
       "   'recall': 0.9295914566000248,\n",
       "   'f1-score': 0.6750834159978357,\n",
       "   'support': 8053.0},\n",
       "  '2': {'precision': 0.4923936665631791,\n",
       "   'recall': 0.7113702623906706,\n",
       "   'f1-score': 0.581964957343363,\n",
       "   'support': 8918.0},\n",
       "  '3': {'precision': 0.20042916262197927,\n",
       "   'recall': 0.8336166595835104,\n",
       "   'f1-score': 0.32315993245191316,\n",
       "   'support': 4706.0},\n",
       "  '4': {'precision': 0.7480299827022872,\n",
       "   'recall': 0.9824561403508771,\n",
       "   'f1-score': 0.8493643952206885,\n",
       "   'support': 7923.0},\n",
       "  'accuracy': 0.8200158928887898,\n",
       "  'macro avg': {'precision': 0.5941127544531006,\n",
       "   'recall': 0.8536697563665431,\n",
       "   'f1-score': 0.6650586367786906,\n",
       "   'support': 174921.0},\n",
       "  'weighted avg': {'precision': 0.9193324066629126,\n",
       "   'recall': 0.8200158928887898,\n",
       "   'f1-score': 0.8520629957330731,\n",
       "   'support': 174921.0}}]"
      ]
     },
     "execution_count": 36,
     "metadata": {},
     "output_type": "execute_result"
    }
   ],
   "source": [
    "train_and_test(\n",
    "    model,\n",
    "    train_dataset,\n",
    "    test_dataset,\n",
    "    val_dataset,\n",
    "    logs_path=Path(\"../logs/\"),\n",
    "    workers=0,\n",
    "    batch_size=64,\n",
    "    labels=SAT_CLASSES_ACCURACY,\n",
    "    # epochs=1,\n",
    "    # weight_decay=0.001,\n",
    "    # label_smoothing=0.0001,\n",
    ")"
   ]
  },
  {
   "cell_type": "code",
   "execution_count": null,
   "metadata": {},
   "outputs": [],
   "source": []
  }
 ],
 "metadata": {
  "kernelspec": {
   "display_name": "base",
   "language": "python",
   "name": "python3"
  },
  "language_info": {
   "codemirror_mode": {
    "name": "ipython",
    "version": 3
   },
   "file_extension": ".py",
   "mimetype": "text/x-python",
   "name": "python",
   "nbconvert_exporter": "python",
   "pygments_lexer": "ipython3",
   "version": "3.10.13"
  }
 },
 "nbformat": 4,
 "nbformat_minor": 2
}
